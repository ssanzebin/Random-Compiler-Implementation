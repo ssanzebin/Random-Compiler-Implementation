{
 "cells": [
  {
   "cell_type": "code",
   "execution_count": 1,
   "id": "e8a1f287-e44f-4754-bece-8f35213642e2",
   "metadata": {},
   "outputs": [
    {
     "name": "stderr",
     "output_type": "stream",
     "text": [
      "<frozen importlib._bootstrap>:219: RuntimeWarning: scipy._lib.messagestream.MessageStream size changed, may indicate binary incompatibility. Expected 56 from C header, got 64 from PyObject\n"
     ]
    }
   ],
   "source": [
    "import numpy as np\n",
    "# Importing standard Qiskit libraries\n",
    "from qiskit import QuantumCircuit, transpile, Aer, IBMQ\n",
    "from qiskit.tools.jupyter import *\n",
    "from qiskit.visualization import *\n",
    "from ibm_quantum_widgets import *\n",
    "from qiskit.providers.aer import QasmSimulator\n",
    "# Loading your IBM Quantum account(s)\n",
    "provider = IBMQ.load_account()"
   ]
  },
  {
   "cell_type": "code",
   "execution_count": 2,
   "id": "4c07a815-aa1b-4cc7-87c2-7aac1b046b9b",
   "metadata": {},
   "outputs": [],
   "source": [
    "import qiskit as qc\n",
    "from qiskit.circuit.random import random_circuit"
   ]
  },
  {
   "cell_type": "code",
   "execution_count": 3,
   "id": "41d94b7e-d879-49e6-8ef1-c068c7b93e6d",
   "metadata": {},
   "outputs": [
    {
     "name": "stdin",
     "output_type": "stream",
     "text": [
      "Enter the number of quantum bits 3\n",
      "Enter the number of classical bits 3\n"
     ]
    }
   ],
   "source": [
    "QuantumBits = int(input(\"Enter the number of quantum bits\"))\n",
    "ClassicalBits = int(input(\"Enter the number of classical bits\"))\n",
    "baseCircuit = qc.QuantumCircuit(QuantumBits,ClassicalBits)\n",
    "#numQubits = int(input(\"Enter your desired number of qubits\"))"
   ]
  },
  {
   "cell_type": "code",
   "execution_count": 4,
   "id": "8bc4940a-966b-43b4-9e1b-d7739941c8dd",
   "metadata": {},
   "outputs": [
    {
     "data": {
      "text/plain": [
       "<qiskit.circuit.instructionset.InstructionSet at 0x7f5f2a249cc0>"
      ]
     },
     "execution_count": 4,
     "metadata": {},
     "output_type": "execute_result"
    }
   ],
   "source": [
    "baseCircuit.h(0)\n",
    "baseCircuit.x(0)\n",
    "baseCircuit.h(1)\n",
    "baseCircuit.cx(0,1)\n",
    "baseCircuit.barrier(0)"
   ]
  },
  {
   "cell_type": "code",
   "execution_count": 5,
   "id": "5f6d75b4-d7c0-4cb4-a037-bd84f0118cbb",
   "metadata": {},
   "outputs": [
    {
     "data": {
      "image/png": "[encoded data removed]",
      "text/plain": [
       "<Figure size 327.397x264.88 with 1 Axes>"
      ]
     },
     "execution_count": 5,
     "metadata": {},
     "output_type": "execute_result"
    }
   ],
   "source": [
    "baseCircuit.draw()"
   ]
  },
  {
   "cell_type": "code",
   "execution_count": 6,
   "id": "413d16d2-b976-4d22-8eed-fa6cecd2be36",
   "metadata": {},
   "outputs": [],
   "source": [
    "strings = baseCircuit.qasm()"
   ]
  },
  {
   "cell_type": "code",
   "execution_count": 7,
   "id": "9a5e76a6-562f-4854-a92c-11c80afc2b98",
   "metadata": {},
   "outputs": [
    {
     "name": "stdout",
     "output_type": "stream",
     "text": [
      "OPENQASM 2.0;\n",
      "include \"qelib1.inc\";\n",
      "qreg q[3];\n",
      "creg c[3];\n",
      "h q[0];\n",
      "x q[0];\n",
      "h q[1];\n",
      "cx q[0],q[1];\n",
      "barrier q[0];\n",
      "\n"
     ]
    }
   ],
   "source": [
    "print(strings)"
   ]
  },
  {
   "cell_type": "code",
   "execution_count": 28,
   "id": "3f98c40b-790c-4baa-ad6e-0254c588655d",
   "metadata": {},
   "outputs": [
    {
     "name": "stdout",
     "output_type": "stream",
     "text": [
      "2\n"
     ]
    }
   ],
   "source": [
    "def getCycles(strings):\n",
    "    barriers = 0\n",
    "    res = strings.split()\n",
    "    for word in res:\n",
    "        if word == \"barrier\":\n",
    "            barriers += 1\n",
    "NumCycles = getBarriers(strings) + 1\n",
    "print(NumCycles)"
   ]
  },
  {
   "cell_type": "code",
   "execution_count": 29,
   "id": "839124e3-f0e4-49eb-b4dd-2e08e9fab2aa",
   "metadata": {},
   "outputs": [],
   "source": [
    "## gets the list of gates & functions applied to each qubit\n",
    "lis = []\n",
    "line = \"\"\n",
    "for s in strings:\n",
    "    if s == \";\":\n",
    "        lis.append(line)\n",
    "        line = \"\"\n",
    "    elif s == \"\\n\":\n",
    "        pass\n",
    "    else:\n",
    "        line += s"
   ]
  },
  {
   "cell_type": "code",
   "execution_count": 30,
   "id": "08ac8fa4-18c6-4e3e-a0c4-57d41b20365f",
   "metadata": {},
   "outputs": [],
   "source": [
    "class CircuitInfo:\n",
    "    def __init__(circuit):\n",
    "        circuit.NumQubits = 0\n",
    "        circuit.NumCycles = 0\n",
    "    def getNumQubits(circuit):\n",
    "        return circuit.NumQubits\n",
    "    def getNumCycles(circuit):\n",
    "        return circuit.NumCycles\n",
    "    def setNumQubits(circuit, NumQubits):\n",
    "        circuit.NumQubits = NumQubits\n",
    "    def setNumCycles(circuit, NumCycles):\n",
    "        circuit.NumCycles = NumCycles"
   ]
  },
  {
   "cell_type": "code",
   "execution_count": 31,
   "id": "723797f8-e9f9-4acd-91ee-76208b2170bc",
   "metadata": {},
   "outputs": [
    {
     "name": "stdout",
     "output_type": "stream",
     "text": [
      "3 2\n"
     ]
    }
   ],
   "source": [
    "Alice = CircuitInfo()\n",
    "Alice.setNumQubits(QuantumBits)\n",
    "Alice.setNumCycles(numCycles)\n",
    "print(Alice.NumQubits, Alice.NumCycles)"
   ]
  },
  {
   "cell_type": "markdown",
   "id": "4d13d905-899e-4f00-a455-8d3286dea797",
   "metadata": {},
   "source": [
    "#1st function: take in the qc and return information, like, number of qubits, & number of cycles\n",
    "#def parse(QuantumCircuit):"
   ]
  }
 ],
 "metadata": {
  "kernelspec": {
   "display_name": "Python 3 (ipykernel)",
   "language": "python",
   "name": "python3"
  },
  "language_info": {
   "codemirror_mode": {
    "name": "ipython",
    "version": 3
   },
   "file_extension": ".py",
   "mimetype": "text/x-python",
   "name": "python",
   "nbconvert_exporter": "python",
   "pygments_lexer": "ipython3",
   "version": "3.8.13"
  },
  "widgets": {
   "application/vnd.jupyter.widget-state+json": {
    "state": {
     "017e381a39ee4ac1814672b120c7680d": {
      "model_module": "@jupyter-widgets/controls",
      "model_module_version": "1.5.0",
      "model_name": "HTMLModel",
      "state": {
       "layout": "IPY_MODEL_c420d8eda06e4f20a91d6a0a358ac9c3",
       "style": "IPY_MODEL_3e893b3a69934ee48f0f67c3a0dba626",
       "value": "<h5>Job ID</h5>"
      }
     },
     "1721330451ce4a3aaffb684997086ae1": {
      "model_module": "@jupyter-widgets/controls",
      "model_module_version": "1.5.0",
      "model_name": "HTMLModel",
      "state": {
       "layout": "IPY_MODEL_e0fccf6c83f04c1eb067735fbba40b70",
       "style": "IPY_MODEL_c04d7936d87844309469529fdcd50ab2",
       "value": "<h5>Status</h5>"
      }
     },
     "323c9c9dcae948a094686607068ec354": {
      "model_module": "@jupyter-widgets/controls",
      "model_module_version": "1.5.0",
      "model_name": "HTMLModel",
      "state": {
       "layout": "IPY_MODEL_f0510c5cd9a6467685ece84c3ca79119",
       "style": "IPY_MODEL_8ea1299839dc446b9bccdc3dcedf6d5d",
       "value": "<h5>Backend</h5>"
      }
     },
     "3e893b3a69934ee48f0f67c3a0dba626": {
      "model_module": "@jupyter-widgets/controls",
      "model_module_version": "1.5.0",
      "model_name": "DescriptionStyleModel",
      "state": {
       "description_width": ""
      }
     },
     "4a1540d0388040afb5d834da9a9f2d13": {
      "model_module": "@jupyter-widgets/controls",
      "model_module_version": "1.5.0",
      "model_name": "ButtonModel",
      "state": {
       "button_style": "primary",
       "description": "Clear",
       "layout": "IPY_MODEL_e7aa180e662b49e0931494c6d21d85c0",
       "style": "IPY_MODEL_510c49eebb674b4ea7b8677eeed5fb27"
      }
     },
     "4bda30dfa6374d4fb6f1febcd6a6ff13": {
      "model_module": "@jupyter-widgets/base",
      "model_module_version": "1.2.0",
      "model_name": "LayoutModel",
      "state": {
       "margin": "0px 0px 0px 37px",
       "width": "600px"
      }
     },
     "4e41e8a13501478f8f22fdd1a3b1b446": {
      "model_module": "@jupyter-widgets/controls",
      "model_module_version": "1.5.0",
      "model_name": "GridBoxModel",
      "state": {
       "children": [
        "IPY_MODEL_4a1540d0388040afb5d834da9a9f2d13"
       ],
       "layout": "IPY_MODEL_607884ad7fbe4dcb96169bf494a2e1b1"
      }
     },
     "510c49eebb674b4ea7b8677eeed5fb27": {
      "model_module": "@jupyter-widgets/controls",
      "model_module_version": "1.5.0",
      "model_name": "ButtonStyleModel",
      "state": {}
     },
     "5fdfc957bb5e4d26b1542bb27072267c": {
      "model_module": "@jupyter-widgets/controls",
      "model_module_version": "1.5.0",
      "model_name": "HBoxModel",
      "state": {
       "children": [
        "IPY_MODEL_017e381a39ee4ac1814672b120c7680d",
        "IPY_MODEL_323c9c9dcae948a094686607068ec354",
        "IPY_MODEL_1721330451ce4a3aaffb684997086ae1",
        "IPY_MODEL_c3db67aa94f34cfba88bcf22077660e9",
        "IPY_MODEL_97ef79a1c04745db9cc6ef368c01af3e"
       ],
       "layout": "IPY_MODEL_4bda30dfa6374d4fb6f1febcd6a6ff13"
      }
     },
     "607884ad7fbe4dcb96169bf494a2e1b1": {
      "model_module": "@jupyter-widgets/base",
      "model_module_version": "1.2.0",
      "model_name": "LayoutModel",
      "state": {
       "grid_template_areas": "\n                                       \". . . . right \"\n                                        ",
       "grid_template_columns": "20% 20% 20% 20% 20%",
       "width": "100%"
      }
     },
     "653fb4973f954f93abf2e6ab7e43e8e3": {
      "model_module": "@jupyter-widgets/base",
      "model_module_version": "1.2.0",
      "model_name": "LayoutModel",
      "state": {
       "width": "70px"
      }
     },
     "6c987517531e47a1aae536281381a416": {
      "model_module": "@jupyter-widgets/controls",
      "model_module_version": "1.5.0",
      "model_name": "DescriptionStyleModel",
      "state": {
       "description_width": ""
      }
     },
     "8341a9e5cc2d403e9d0dba473cb30c73": {
      "model_module": "@jupyter-widgets/base",
      "model_module_version": "1.2.0",
      "model_name": "LayoutModel",
      "state": {
       "margin": "0px 0px 10px 0px"
      }
     },
     "8ea1299839dc446b9bccdc3dcedf6d5d": {
      "model_module": "@jupyter-widgets/controls",
      "model_module_version": "1.5.0",
      "model_name": "DescriptionStyleModel",
      "state": {
       "description_width": ""
      }
     },
     "97ef79a1c04745db9cc6ef368c01af3e": {
      "model_module": "@jupyter-widgets/controls",
      "model_module_version": "1.5.0",
      "model_name": "HTMLModel",
      "state": {
       "layout": "IPY_MODEL_a4bc0b0b776145b4914fff444f32993c",
       "style": "IPY_MODEL_ec983c3da4b14f23be0ebca21482cb52",
       "value": "<h5>Message</h5>"
      }
     },
     "a4bc0b0b776145b4914fff444f32993c": {
      "model_module": "@jupyter-widgets/base",
      "model_module_version": "1.2.0",
      "model_name": "LayoutModel",
      "state": {}
     },
     "b11575897b014cecae00e7322ea7186d": {
      "model_module": "@jupyter-widgets/controls",
      "model_module_version": "1.5.0",
      "model_name": "DescriptionStyleModel",
      "state": {
       "description_width": ""
      }
     },
     "b23a4beb85074a30a78f57f3467a927f": {
      "model_module": "@jupyter-widgets/controls",
      "model_module_version": "1.5.0",
      "model_name": "HTMLModel",
      "state": {
       "layout": "IPY_MODEL_8341a9e5cc2d403e9d0dba473cb30c73",
       "style": "IPY_MODEL_6c987517531e47a1aae536281381a416",
       "value": "<p style='font-family: IBM Plex Sans, Arial, Helvetica, sans-serif; font-size: 20px; font-weight: medium;'>Circuit Properties</p>"
      }
     },
     "c04d7936d87844309469529fdcd50ab2": {
      "model_module": "@jupyter-widgets/controls",
      "model_module_version": "1.5.0",
      "model_name": "DescriptionStyleModel",
      "state": {
       "description_width": ""
      }
     },
     "c3db67aa94f34cfba88bcf22077660e9": {
      "model_module": "@jupyter-widgets/controls",
      "model_module_version": "1.5.0",
      "model_name": "HTMLModel",
      "state": {
       "layout": "IPY_MODEL_653fb4973f954f93abf2e6ab7e43e8e3",
       "style": "IPY_MODEL_b11575897b014cecae00e7322ea7186d",
       "value": "<h5>Queue</h5>"
      }
     },
     "c420d8eda06e4f20a91d6a0a358ac9c3": {
      "model_module": "@jupyter-widgets/base",
      "model_module_version": "1.2.0",
      "model_name": "LayoutModel",
      "state": {
       "width": "190px"
      }
     },
     "e0fccf6c83f04c1eb067735fbba40b70": {
      "model_module": "@jupyter-widgets/base",
      "model_module_version": "1.2.0",
      "model_name": "LayoutModel",
      "state": {
       "width": "95px"
      }
     },
     "e7aa180e662b49e0931494c6d21d85c0": {
      "model_module": "@jupyter-widgets/base",
      "model_module_version": "1.2.0",
      "model_name": "LayoutModel",
      "state": {
       "grid_area": "right",
       "padding": "0px 0px 0px 0px",
       "width": "70px"
      }
     },
     "ec983c3da4b14f23be0ebca21482cb52": {
      "model_module": "@jupyter-widgets/controls",
      "model_module_version": "1.5.0",
      "model_name": "DescriptionStyleModel",
      "state": {
       "description_width": ""
      }
     },
     "f0510c5cd9a6467685ece84c3ca79119": {
      "model_module": "@jupyter-widgets/base",
      "model_module_version": "1.2.0",
      "model_name": "LayoutModel",
      "state": {
       "width": "145px"
      }
     }
    },
    "version_major": 2,
    "version_minor": 0
   }
  }
 },
 "nbformat": 4,
 "nbformat_minor": 5
}
