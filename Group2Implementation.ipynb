{
 "cells": [
  {
   "cell_type": "code",
   "execution_count": 1,
   "id": "75e001f7-7e14-4371-a7a2-c800614d9de2",
   "metadata": {},
   "outputs": [
    {
     "name": "stderr",
     "output_type": "stream",
     "text": [
      "/home/jupyter-arturolopez/.local/lib/python3.9/site-packages/qiskit/providers/aer/pulse/qutip_extra_lite/fastsparse.py:57: DeprecationWarning: Please use `upcast` from the `scipy.sparse` namespace, the `scipy.sparse.sputils` namespace is deprecated.\n",
      "  from scipy.sparse.sputils import (upcast, isdense, isscalarlike, get_index_dtype)\n",
      "/home/jupyter-arturolopez/.local/lib/python3.9/site-packages/qiskit/providers/aer/pulse/qutip_extra_lite/fastsparse.py:57: DeprecationWarning: Please use `isdense` from the `scipy.sparse` namespace, the `scipy.sparse.sputils` namespace is deprecated.\n",
      "  from scipy.sparse.sputils import (upcast, isdense, isscalarlike, get_index_dtype)\n",
      "/home/jupyter-arturolopez/.local/lib/python3.9/site-packages/qiskit/providers/aer/pulse/qutip_extra_lite/fastsparse.py:57: DeprecationWarning: Please use `isscalarlike` from the `scipy.sparse` namespace, the `scipy.sparse.sputils` namespace is deprecated.\n",
      "  from scipy.sparse.sputils import (upcast, isdense, isscalarlike, get_index_dtype)\n",
      "/home/jupyter-arturolopez/.local/lib/python3.9/site-packages/qiskit/providers/aer/pulse/qutip_extra_lite/fastsparse.py:57: DeprecationWarning: Please use `get_index_dtype` from the `scipy.sparse` namespace, the `scipy.sparse.sputils` namespace is deprecated.\n",
      "  from scipy.sparse.sputils import (upcast, isdense, isscalarlike, get_index_dtype)\n",
      "/home/jupyter-arturolopez/.local/lib/python3.9/site-packages/qiskit/providers/aer/pulse/qutip_extra_lite/fastsparse.py:58: DeprecationWarning: Please use `SparseEfficiencyWarning` from the `scipy.sparse` namespace, the `scipy.sparse.base` namespace is deprecated.\n",
      "  from scipy.sparse.base import SparseEfficiencyWarning\n"
     ]
    }
   ],
   "source": [
    "import qiskit as qc\n",
    "import numpy as np"
   ]
  },
  {
   "cell_type": "code",
   "execution_count": 2,
   "id": "2d07bbe5-b404-4f56-954f-470c03dee8b6",
   "metadata": {},
   "outputs": [
    {
     "data": {
      "text/html": [
       "<pre style=\"word-wrap: normal;white-space: pre;background: #fff0;line-height: 1.1;font-family: &quot;Courier New&quot;,Courier,monospace\">     ┌───┐      ░ ┌───┐      ░ ┌───┐\n",
       "q_0: ┤ H ├──■───░─┤ Y ├──────░─┤ I ├\n",
       "     ├───┤┌─┴─┐ ░ ├───┤      ░ ├───┤\n",
       "q_1: ┤ I ├┤ X ├─░─┤ I ├──■───░─┤ X ├\n",
       "     ├───┤└───┘ ░ ├───┤┌─┴─┐ ░ ├───┤\n",
       "q_2: ┤ I ├──────░─┤ H ├┤ X ├─░─┤ I ├\n",
       "     └───┘      ░ └───┘└───┘ ░ └───┘\n",
       "c: 1/═══════════════════════════════\n",
       "                                    </pre>"
      ],
      "text/plain": [
       "     ┌───┐      ░ ┌───┐      ░ ┌───┐\n",
       "q_0: ┤ H ├──■───░─┤ Y ├──────░─┤ I ├\n",
       "     ├───┤┌─┴─┐ ░ ├───┤      ░ ├───┤\n",
       "q_1: ┤ I ├┤ X ├─░─┤ I ├──■───░─┤ X ├\n",
       "     ├───┤└───┘ ░ ├───┤┌─┴─┐ ░ ├───┤\n",
       "q_2: ┤ I ├──────░─┤ H ├┤ X ├─░─┤ I ├\n",
       "     └───┘      ░ └───┘└───┘ ░ └───┘\n",
       "c: 1/═══════════════════════════════\n",
       "                                    "
      ]
     },
     "execution_count": 2,
     "metadata": {},
     "output_type": "execute_result"
    }
   ],
   "source": [
    "a = qc.QuantumCircuit(3,1)\n",
    "\n",
    "a.h(0)\n",
    "a.i(1)\n",
    "a.cx(0,1)\n",
    "a.i(2)\n",
    "\n",
    "\n",
    "a.barrier()\n",
    "\n",
    "a.y(0)\n",
    "a.i(1)\n",
    "a.h(2)\n",
    "\n",
    "a.cx(1,2)\n",
    "a.barrier()\n",
    "\n",
    "a.i(0)\n",
    "a.x(1)\n",
    "a.i(2)\n",
    "\n",
    "a.draw()"
   ]
  },
  {
   "cell_type": "code",
   "execution_count": 3,
   "id": "c1aedf40-318f-4b65-9cf8-23fb6b786ad5",
   "metadata": {},
   "outputs": [],
   "source": [
    "def parsing(QuantumCircuit):\n",
    "    qasm = QuantumCircuit.qasm()\n",
    "    lis = []\n",
    "    lin = \"\"\n",
    "    for s in qasm:\n",
    "        if s == \";\":\n",
    "            lis.append(lin)\n",
    "            lin=\"\"\n",
    "        elif s == \"\\n\":\n",
    "            pass\n",
    "        else:\n",
    "            lin += s\n",
    "    \n",
    "    lis.pop(0)\n",
    "    lis.pop(0)\n",
    "    #getting rid of the first two lines of the qasm code\n",
    "    #could also make a while loop to pop() the lines that don't start with qreg\n",
    "    \n",
    "    if \"qreg\" in lis[0]:\n",
    "        qreg=lis[0]\n",
    "        numQubits=int(qreg[-2])\n",
    "        lis.pop(0)\n",
    "    else:\n",
    "        print(\"There is an error in getting the number of qubits\")\n",
    "    \n",
    "    if \"creg\" in lis[0]:\n",
    "        lis.pop(0)\n",
    "    \n",
    "    easyGates = []\n",
    "    numCycles = 1\n",
    "    for i in range(len(lis)):\n",
    "        line = lis[i]\n",
    "        if \"h\" in line:\n",
    "            easyGates.append(\"H\")\n",
    "        elif \"x\" in line and \"c\" not in line:\n",
    "            easyGates.append(\"X\")\n",
    "        elif \"y\" in line:\n",
    "            easyGates.append(\"Y\")\n",
    "        elif \"z\" in line:\n",
    "            easyGates.append(\"Z\")\n",
    "        elif \"t\" in line:\n",
    "            easyGates.append(\"T\")\n",
    "        elif \"id\" in line:\n",
    "            easyGates.append(\"I\")\n",
    "        elif \"barrier\" in line:\n",
    "            numCycles += 1\n",
    "        elif \"cx\" in line:\n",
    "            continue\n",
    "        else:\n",
    "            print(f\"unexpected line or gate in qasm interpretation in line {i} \")\n",
    "    \n",
    "    controls = []\n",
    "    targets = []\n",
    "    \n",
    "    for i in range(len(lis)):\n",
    "        line = lis[i]\n",
    "        if \"cx\" in line:\n",
    "            for j in range(len(line)):\n",
    "                if line[j] == \"]\":\n",
    "                    a=line[j-1]\n",
    "                    if j == 6:\n",
    "                        controls.append(a)\n",
    "                    elif j==11:\n",
    "                        targets.append(a)\n",
    "                    else:\n",
    "                        print(\"something weird happening with cx\")\n",
    "    return numQubits, numCycles, easyGates, controls, targets"
   ]
  },
  {
   "cell_type": "code",
   "execution_count": 4,
   "id": "070484a8-c590-40a6-aef0-68bd8abb58b1",
   "metadata": {},
   "outputs": [],
   "source": [
    "(numQubits, numCycles, easyGates, controls, targets)=parsing(a)\n"
   ]
  },
  {
   "cell_type": "code",
   "execution_count": 5,
   "id": "809e12ab-6d95-4a4f-9fd8-e408179f5072",
   "metadata": {},
   "outputs": [],
   "source": [
    "#can use structs to store info about circuits"
   ]
  },
  {
   "cell_type": "code",
   "execution_count": 6,
   "id": "021039f8-16e5-4e97-b3cb-fb08014760b6",
   "metadata": {},
   "outputs": [
    {
     "data": {
      "text/plain": [
       "['1', '2']"
      ]
     },
     "execution_count": 6,
     "metadata": {},
     "output_type": "execute_result"
    }
   ],
   "source": [
    "targets"
   ]
  },
  {
   "cell_type": "code",
   "execution_count": 7,
   "id": "1f95093e-def1-49b8-a4f1-78e7cccc407a",
   "metadata": {},
   "outputs": [],
   "source": [
    "def twirling_gates(numQubits, numCycles):\n",
    "    twirling_set = [\"X\",\"Y\",\"Z\",\"I\"]\n",
    "    random_twirling = []\n",
    "    for i in range(numQubits*(numCycles-1)):\n",
    "        random_twirling.append(np.random.choice(twirling_set))\n",
    "    for i in range(numQubits):\n",
    "        random_twirling.append(\"I\")\n",
    "    return random_twirling"
   ]
  },
  {
   "cell_type": "code",
   "execution_count": 8,
   "id": "6ff606ea-57b9-4b33-96b5-4bca58bde40a",
   "metadata": {},
   "outputs": [
    {
     "data": {
      "text/plain": [
       "['I', 'Y', 'Y', 'I', 'I', 'Z', 'I', 'I', 'I']"
      ]
     },
     "execution_count": 8,
     "metadata": {},
     "output_type": "execute_result"
    }
   ],
   "source": [
    "random_twirling = twirling_gates(numQubits, numCycles)\n",
    "random_twirling"
   ]
  },
  {
   "cell_type": "code",
   "execution_count": 9,
   "id": "54540400-0216-4391-8721-e0ef945ec341",
   "metadata": {},
   "outputs": [],
   "source": [
    "def inverting_operators(random_twirling, targets, numQubits):\n",
    "    target_indeces = []\n",
    "    for i in range(len(targets)): #getting indeces of inverting_matrices that need to change\n",
    "        target_indeces.append(str(int(targets[i])+ numQubits*i))\n",
    "    \n",
    "    inverting_gates = []\n",
    "    for i in range(numQubits):\n",
    "        inverting_gates.append(\"I\")\n",
    "    for i in range(len(random_twirling)-numQubits):\n",
    "        if str(i) in target_indeces:\n",
    "            #do multiplication formula:: Honestly, nevermind: just match with if state\n",
    "            if random_twirling[i]==\"X\":\n",
    "                inverting_gates.append(\"I\")\n",
    "            elif random_twirling[i]==\"Y\":\n",
    "                inverting_gates.append(\"idk yet\")\n",
    "            elif random_twirling[i]==\"Z\":\n",
    "                inverting_gates.append(\"idk yet\")\n",
    "            elif random_twirling[i]==\"H\":\n",
    "                inverting_gates.append(\"idk yet\")\n",
    "            elif random_twirling[i]==\"T\":\n",
    "                inverting_gates.append(\"idk yet\")\n",
    "            elif random_twirling[i]==\"I\":\n",
    "                inverting_gates.append(\"idk yet\")\n",
    "            else:\n",
    "                print(\"unrecognized gate before cx target qubit in prev. cycle\")\n",
    "        else:\n",
    "            inverting_gates.append(random_twirling[i])\n",
    "    return target_indeces, inverting_gates\n",
    "        "
   ]
  },
  {
   "cell_type": "code",
   "execution_count": 10,
   "id": "4756050a-84ef-43eb-a727-c21bbaf608d3",
   "metadata": {},
   "outputs": [
    {
     "data": {
      "text/plain": [
       "['I', 'I', 'I', 'I', 'idk yet', 'Y', 'I', 'I', 'idk yet']"
      ]
     },
     "execution_count": 10,
     "metadata": {},
     "output_type": "execute_result"
    }
   ],
   "source": [
    "(target_indeces, inverting_gates)=inverting_operators(random_twirling, targets, numQubits)\n",
    "inverting_gates"
   ]
  },
  {
   "cell_type": "code",
   "execution_count": 11,
   "id": "556da2d8-db44-4154-8dfd-ea41a5f34b5c",
   "metadata": {},
   "outputs": [],
   "source": [
    "def gate2mat(gate):\n",
    "    if gate == \"X\":\n",
    "        gate_matrix = np.array([[0,1],\n",
    "                                [1,0]])\n",
    "    elif gate == \"Y\":\n",
    "        gate_matrix = np.array([[0,-1j],\n",
    "                                [1j,0]])\n",
    "    elif gate == \"Z\":\n",
    "        gate_matrix = np.array([[1,0],\n",
    "                                [0,-1]])\n",
    "    elif gate == \"H\":\n",
    "        gate_matrix = 1/np.sqrt(2) *np.array([[1,1],\n",
    "                                [1,-1]])\n",
    "    elif gate == \"I\":\n",
    "        gate_matrix = np.array([[1,0],\n",
    "                                [0,1]])\n",
    "    elif gate == \"T\":\n",
    "        gate_matrix = np.array([[1,0],\n",
    "                                [0,np.exp(1j*np.pi/4)]])\n",
    "    else:\n",
    "        print(f\"matrix {gate} not recognized\")\n",
    "        gate_matrix = np.array([[0,0],[0,0]])\n",
    "    return gate_matrix"
   ]
  },
  {
   "cell_type": "code",
   "execution_count": 12,
   "id": "5a0bb176-5095-43ed-8ea0-c28ca00df7ed",
   "metadata": {},
   "outputs": [
    {
     "data": {
      "text/plain": [
       "array([[ 0.70710678,  0.70710678],\n",
       "       [ 0.70710678, -0.70710678]])"
      ]
     },
     "execution_count": 12,
     "metadata": {},
     "output_type": "execute_result"
    }
   ],
   "source": [
    "gate2mat(\"H\")"
   ]
  },
  {
   "cell_type": "code",
   "execution_count": 13,
   "id": "d691af8e-4849-41b5-806f-7e83092b7149",
   "metadata": {},
   "outputs": [
    {
     "data": {
      "text/plain": [
       "array([[ 0.70710678,  0.70710678],\n",
       "       [-0.70710678,  0.70710678]])"
      ]
     },
     "execution_count": 13,
     "metadata": {},
     "output_type": "execute_result"
    }
   ],
   "source": [
    "mat1=gate2mat(\"H\")\n",
    "mat2=gate2mat(\"X\")\n",
    "\n",
    "np.dot(mat1,mat2)"
   ]
  },
  {
   "cell_type": "code",
   "execution_count": 14,
   "id": "5c135b0e-f266-42b8-b1df-043ce274ed44",
   "metadata": {},
   "outputs": [],
   "source": [
    "def reduction(easyGates, random_twirling, inverting_gates, numQubits, numCycles):\n",
    "    compiled_gates = np.zeros((numQubits*numCycles,2,2),dtype = 'complex_')\n",
    "    \n",
    "    for i in range(numQubits*numCycles):\n",
    "        mat1=gate2mat(inverting_gates[i])\n",
    "        mat2=gate2mat(easyGates[i])\n",
    "        mat3=gate2mat(random_twirling[i])\n",
    "        a=np.dot(mat2,mat1)\n",
    "        compiled_gates[i]=np.dot(mat3,a)\n",
    "    \n",
    "    #want to return an array, matrix of 2x2x(however \n",
    "    #many easy gates we have in the circuit= numQubits*numCycles)\n",
    "    return compiled_gates"
   ]
  },
  {
   "cell_type": "code",
   "execution_count": 15,
   "id": "34bf77c2-153b-452b-85bd-b3db6a7008cd",
   "metadata": {},
   "outputs": [
    {
     "name": "stdout",
     "output_type": "stream",
     "text": [
      "matrix idk yet not recognized\n",
      "matrix idk yet not recognized\n"
     ]
    },
    {
     "data": {
      "text/plain": [
       "array([[[ 0.70710678+0.j        ,  0.70710678+0.j        ],\n",
       "        [ 0.70710678+0.j        , -0.70710678+0.j        ]],\n",
       "\n",
       "       [[ 0.        +0.j        ,  0.        -1.j        ],\n",
       "        [ 0.        +1.j        ,  0.        +0.j        ]],\n",
       "\n",
       "       [[ 0.        +0.j        ,  0.        -1.j        ],\n",
       "        [ 0.        +1.j        ,  0.        +0.j        ]],\n",
       "\n",
       "       [[ 0.        +0.j        ,  0.        -1.j        ],\n",
       "        [ 0.        +1.j        ,  0.        +0.j        ]],\n",
       "\n",
       "       [[ 0.        +0.j        ,  0.        +0.j        ],\n",
       "        [ 0.        +0.j        ,  0.        +0.j        ]],\n",
       "\n",
       "       [[ 0.        +0.70710678j,  0.        -0.70710678j],\n",
       "        [ 0.        +0.70710678j,  0.        +0.70710678j]],\n",
       "\n",
       "       [[ 1.        +0.j        ,  0.        +0.j        ],\n",
       "        [ 0.        +0.j        ,  1.        +0.j        ]],\n",
       "\n",
       "       [[ 0.        +0.j        ,  1.        +0.j        ],\n",
       "        [ 1.        +0.j        ,  0.        +0.j        ]],\n",
       "\n",
       "       [[ 0.        +0.j        ,  0.        +0.j        ],\n",
       "        [ 0.        +0.j        ,  0.        +0.j        ]]])"
      ]
     },
     "execution_count": 15,
     "metadata": {},
     "output_type": "execute_result"
    }
   ],
   "source": [
    "(compiled_gates)=reduction(easyGates, random_twirling, inverting_gates, numQubits, numCycles)\n",
    "compiled_gates"
   ]
  },
  {
   "cell_type": "code",
   "execution_count": 16,
   "id": "e4434d73-13de-4027-95c5-1f485ed10020",
   "metadata": {},
   "outputs": [],
   "source": [
    "#turn matrix into gate: will need to know how to generalize the forms of the\n",
    "# possible matrices\n",
    "def mat2gate(a): #given a 2x2 np.array()\n",
    "    gate=[]\n",
    "    gateList = [\"X\", \"Y\", \"Z\", \"H\", \"I\", \"T\"]\n",
    "    \n",
    "    X = np.array([[0,1],[1,0]])\n",
    "    Y = np.array([[0,-1j],[1j,0]])\n",
    "    Z = np.array([[1,0],[0,-1]])\n",
    "    H = 1/np.sqrt(2) *np.array([[1,1],[1,-1]])\n",
    "    I = np.array([[1,0],[0,1]])\n",
    "    T = np.array([[1,0],[0,np.exp(1j*np.pi/4)]])\n",
    "    \n",
    "    matList = [X, Y, Z, H, I, T] #only works for these specific definitions\n",
    "    for i,item in enumerate(matList):\n",
    "        if (a == item).all():\n",
    "            gate = gateList[i]\n",
    "    if gate == []:\n",
    "        print(f\"the following gate needs to be defined:{a}\")\n",
    "    return gate"
   ]
  },
  {
   "cell_type": "code",
   "execution_count": 17,
   "id": "93033ded-338b-4292-b77e-0fead7ccf67e",
   "metadata": {},
   "outputs": [
    {
     "data": {
      "text/plain": [
       "'X'"
      ]
     },
     "execution_count": 17,
     "metadata": {},
     "output_type": "execute_result"
    }
   ],
   "source": [
    "#yo=np.array([[0,1],[1,1]])\n",
    "yo=gate2mat(\"X\")\n",
    "mat2gate(yo)"
   ]
  },
  {
   "cell_type": "code",
   "execution_count": 18,
   "id": "fba6e655-0980-4ebf-9010-96f936fa1727",
   "metadata": {},
   "outputs": [],
   "source": [
    "def instructions(compiled_gates):\n",
    "    randEZgates = []\n",
    "    for i in range(len(compiled_gates)):\n",
    "        randEZgates.append(mat2gate(compiled_gates[i]))\n",
    "        \n",
    "    return randEZgates"
   ]
  },
  {
   "cell_type": "code",
   "execution_count": 19,
   "id": "a5f98fee-9862-480f-a52d-dd252c54aff2",
   "metadata": {},
   "outputs": [
    {
     "name": "stdout",
     "output_type": "stream",
     "text": [
      "the following gate needs to be defined:[[0.+0.j 0.+0.j]\n",
      " [0.+0.j 0.+0.j]]\n",
      "the following gate needs to be defined:[[0.+0.70710678j 0.-0.70710678j]\n",
      " [0.+0.70710678j 0.+0.70710678j]]\n",
      "the following gate needs to be defined:[[0.+0.j 0.+0.j]\n",
      " [0.+0.j 0.+0.j]]\n",
      "['H', 'Y', 'Y', 'Y', [], [], 'I', 'X', []]\n",
      "['I', 'Y', 'Y', 'I', 'I', 'Z', 'I', 'I', 'I']\n",
      "['I', 'I', 'I', 'I', 'idk yet', 'Y', 'I', 'I', 'idk yet']\n"
     ]
    },
    {
     "data": {
      "text/html": [
       "<pre style=\"word-wrap: normal;white-space: pre;background: #fff0;line-height: 1.1;font-family: &quot;Courier New&quot;,Courier,monospace\">     ┌───┐      ░ ┌───┐      ░ ┌───┐\n",
       "q_0: ┤ H ├──■───░─┤ Y ├──────░─┤ I ├\n",
       "     ├───┤┌─┴─┐ ░ ├───┤      ░ ├───┤\n",
       "q_1: ┤ I ├┤ X ├─░─┤ I ├──■───░─┤ X ├\n",
       "     ├───┤└───┘ ░ ├───┤┌─┴─┐ ░ ├───┤\n",
       "q_2: ┤ I ├──────░─┤ H ├┤ X ├─░─┤ I ├\n",
       "     └───┘      ░ └───┘└───┘ ░ └───┘\n",
       "c: 1/═══════════════════════════════\n",
       "                                    </pre>"
      ],
      "text/plain": [
       "     ┌───┐      ░ ┌───┐      ░ ┌───┐\n",
       "q_0: ┤ H ├──■───░─┤ Y ├──────░─┤ I ├\n",
       "     ├───┤┌─┴─┐ ░ ├───┤      ░ ├───┤\n",
       "q_1: ┤ I ├┤ X ├─░─┤ I ├──■───░─┤ X ├\n",
       "     ├───┤└───┘ ░ ├───┤┌─┴─┐ ░ ├───┤\n",
       "q_2: ┤ I ├──────░─┤ H ├┤ X ├─░─┤ I ├\n",
       "     └───┘      ░ └───┘└───┘ ░ └───┘\n",
       "c: 1/═══════════════════════════════\n",
       "                                    "
      ]
     },
     "execution_count": 19,
     "metadata": {},
     "output_type": "execute_result"
    }
   ],
   "source": [
    "randEZgates = instructions(compiled_gates)\n",
    "print(randEZgates)\n",
    "print(random_twirling)\n",
    "print(inverting_gates)\n",
    "a.draw()"
   ]
  },
  {
   "cell_type": "code",
   "execution_count": 21,
   "id": "7f49b7c0-7e03-4efb-9056-05bc222e64e7",
   "metadata": {},
   "outputs": [
    {
     "data": {
      "text/plain": [
       "array([[0.+0.70710678j, 0.-0.70710678j],\n",
       "       [0.+0.70710678j, 0.+0.70710678j]])"
      ]
     },
     "execution_count": 21,
     "metadata": {},
     "output_type": "execute_result"
    }
   ],
   "source": [
    "mat1=gate2mat(\"Y\")\n",
    "mat2=gate2mat(\"H\")\n",
    "earlier = np.dot(mat2,mat1)\n",
    "mat3=gate2mat(\"Z\")\n",
    "earlier\n",
    "np.dot(mat3,earlier) #-> second gate we gotta add corresponds to |-> state (other ones are from idk yets, meaning we need calculation) "
   ]
  },
  {
   "cell_type": "code",
   "execution_count": 159,
   "id": "d7684767-a7ed-4031-a853-2d759397c97d",
   "metadata": {},
   "outputs": [],
   "source": [
    "#using the newly made easy gates (from the randomized compiling) and the original \n",
    "# hard gates, return a quantum circuit that has the same # of cycles and gates as \n",
    "# the bare circuit (and also include barriers)"
   ]
  },
  {
   "cell_type": "code",
   "execution_count": null,
   "id": "ef5564b1-99a2-44d8-b309-54af2ffba7bf",
   "metadata": {},
   "outputs": [],
   "source": [
    "def final_product(randEZgates, controls, targets, numQubits):\n",
    "    qc=QuantumCircuit(numQubits)\n",
    "    for j in range(len(targets)):\n",
    "        for i in range(numQubits):\n",
    "            var = randEZgates[i+j*numQubits]\n",
    "            if var = \"X\":\n",
    "                qc.h(i)\n",
    "            #all the other gates we could possibly get, including paramaterized gates somehow\n",
    "        qc.cx(controls[j],targets[j])\n",
    "        qc.barrier(0,numQubits-1)\n",
    "            \n",
    "    #one final loop for last round of randEZgates (not attached to hard gate cycle)\n",
    "    return qc"
   ]
  }
 ],
 "metadata": {
  "kernelspec": {
   "display_name": "Python 3 (ipykernel)",
   "language": "python",
   "name": "python3"
  },
  "language_info": {
   "codemirror_mode": {
    "name": "ipython",
    "version": 3
   },
   "file_extension": ".py",
   "mimetype": "text/x-python",
   "name": "python",
   "nbconvert_exporter": "python",
   "pygments_lexer": "ipython3",
   "version": "3.9.7"
  }
 },
 "nbformat": 4,
 "nbformat_minor": 5
}
