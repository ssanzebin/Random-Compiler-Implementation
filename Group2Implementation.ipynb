{
 "cells": [
  {
   "cell_type": "code",
   "execution_count": 1,
   "id": "75e001f7-7e14-4371-a7a2-c800614d9de2",
   "metadata": {},
   "outputs": [
    {
     "name": "stderr",
     "output_type": "stream",
     "text": [
      "/home/jupyter-arturolopez/.local/lib/python3.9/site-packages/qiskit/providers/aer/pulse/qutip_extra_lite/fastsparse.py:57: DeprecationWarning: Please use `upcast` from the `scipy.sparse` namespace, the `scipy.sparse.sputils` namespace is deprecated.\n",
      "  from scipy.sparse.sputils import (upcast, isdense, isscalarlike, get_index_dtype)\n",
      "/home/jupyter-arturolopez/.local/lib/python3.9/site-packages/qiskit/providers/aer/pulse/qutip_extra_lite/fastsparse.py:57: DeprecationWarning: Please use `isdense` from the `scipy.sparse` namespace, the `scipy.sparse.sputils` namespace is deprecated.\n",
      "  from scipy.sparse.sputils import (upcast, isdense, isscalarlike, get_index_dtype)\n",
      "/home/jupyter-arturolopez/.local/lib/python3.9/site-packages/qiskit/providers/aer/pulse/qutip_extra_lite/fastsparse.py:57: DeprecationWarning: Please use `isscalarlike` from the `scipy.sparse` namespace, the `scipy.sparse.sputils` namespace is deprecated.\n",
      "  from scipy.sparse.sputils import (upcast, isdense, isscalarlike, get_index_dtype)\n",
      "/home/jupyter-arturolopez/.local/lib/python3.9/site-packages/qiskit/providers/aer/pulse/qutip_extra_lite/fastsparse.py:57: DeprecationWarning: Please use `get_index_dtype` from the `scipy.sparse` namespace, the `scipy.sparse.sputils` namespace is deprecated.\n",
      "  from scipy.sparse.sputils import (upcast, isdense, isscalarlike, get_index_dtype)\n",
      "/home/jupyter-arturolopez/.local/lib/python3.9/site-packages/qiskit/providers/aer/pulse/qutip_extra_lite/fastsparse.py:58: DeprecationWarning: Please use `SparseEfficiencyWarning` from the `scipy.sparse` namespace, the `scipy.sparse.base` namespace is deprecated.\n",
      "  from scipy.sparse.base import SparseEfficiencyWarning\n"
     ]
    }
   ],
   "source": [
    "import qiskit as qc\n",
    "from qiskit import QuantumCircuit\n",
    "import numpy as np"
   ]
  },
  {
   "cell_type": "code",
   "execution_count": 2,
   "id": "2d07bbe5-b404-4f56-954f-470c03dee8b6",
   "metadata": {},
   "outputs": [
    {
     "data": {
      "text/html": [
       "<pre style=\"word-wrap: normal;white-space: pre;background: #fff0;line-height: 1.1;font-family: &quot;Courier New&quot;,Courier,monospace\">     ┌───┐      ░ ┌───┐      ░ ┌───┐\n",
       "q_0: ┤ H ├──■───░─┤ Y ├──────░─┤ I ├\n",
       "     ├───┤┌─┴─┐ ░ ├───┤      ░ ├───┤\n",
       "q_1: ┤ I ├┤ X ├─░─┤ I ├──■───░─┤ X ├\n",
       "     ├───┤└───┘ ░ ├───┤┌─┴─┐ ░ ├───┤\n",
       "q_2: ┤ I ├──────░─┤ H ├┤ X ├─░─┤ I ├\n",
       "     └───┘      ░ └───┘└───┘ ░ └───┘\n",
       "c: 1/═══════════════════════════════\n",
       "                                    </pre>"
      ],
      "text/plain": [
       "     ┌───┐      ░ ┌───┐      ░ ┌───┐\n",
       "q_0: ┤ H ├──■───░─┤ Y ├──────░─┤ I ├\n",
       "     ├───┤┌─┴─┐ ░ ├───┤      ░ ├───┤\n",
       "q_1: ┤ I ├┤ X ├─░─┤ I ├──■───░─┤ X ├\n",
       "     ├───┤└───┘ ░ ├───┤┌─┴─┐ ░ ├───┤\n",
       "q_2: ┤ I ├──────░─┤ H ├┤ X ├─░─┤ I ├\n",
       "     └───┘      ░ └───┘└───┘ ░ └───┘\n",
       "c: 1/═══════════════════════════════\n",
       "                                    "
      ]
     },
     "execution_count": 2,
     "metadata": {},
     "output_type": "execute_result"
    }
   ],
   "source": [
    "bare = qc.QuantumCircuit(3,1) \n",
    "#this is the sample circuit that we perform RC for in this code\n",
    "bare.h(0)\n",
    "bare.i(1)\n",
    "bare.cx(0,1) \n",
    "bare.i(2) \n",
    "#end of the first cycle; each inputted circuit must be coded like this\n",
    "bare.barrier()\n",
    "\n",
    "bare.y(0)\n",
    "bare.i(1)\n",
    "bare.h(2)\n",
    "bare.cx(1,2)\n",
    "#end of second cycle; the cx command can be placed anywhere within the barriers,\n",
    "# but the single qubit gates must be assigned to qubits in ascending order\n",
    "bare.barrier()\n",
    "\n",
    "bare.i(0)\n",
    "bare.x(1)\n",
    "bare.i(2)\n",
    "#the last cycle must contain no hard (cx) gates, only easy (single-qubit) gates.\n",
    "bare.draw()\n",
    "\n",
    "#another restriction is the use of only H,X,Z,Y,I, T, and CNOT gates initially"
   ]
  },
  {
   "cell_type": "code",
   "execution_count": 3,
   "id": "c1aedf40-318f-4b65-9cf8-23fb6b786ad5",
   "metadata": {},
   "outputs": [],
   "source": [
    "def parsing(QuantumCircuit):\n",
    "    qasm = QuantumCircuit.qasm()\n",
    "    lis = []\n",
    "    lin = \"\"\n",
    "    for s in qasm:\n",
    "        if s == \";\":\n",
    "            lis.append(lin)\n",
    "            lin=\"\"\n",
    "        elif s == \"\\n\":\n",
    "            pass\n",
    "        else:\n",
    "            lin += s\n",
    "    \n",
    "    lis.pop(0)\n",
    "    lis.pop(0)\n",
    "    #getting rid of the first two lines of the qasm code\n",
    "    #could also make a while loop to pop() the lines that don't start with qreg\n",
    "    \n",
    "    if \"qreg\" in lis[0]:\n",
    "        qreg=lis[0]\n",
    "        numQubits=int(qreg[-2])\n",
    "        lis.pop(0)\n",
    "    else:\n",
    "        print(\"There is an error in getting the number of qubits\")\n",
    "    \n",
    "    if \"creg\" in lis[0]: #a restriction we do not have is the number of \n",
    "        lis.pop(0) # classical bits in the inputted bare circuit\n",
    "    \n",
    "    easyGates = []\n",
    "    numCycles = 1\n",
    "    for i in range(len(lis)):\n",
    "        line = lis[i]\n",
    "        if \"h\" in line:\n",
    "            easyGates.append(\"H\")\n",
    "        elif \"x\" in line and \"c\" not in line:\n",
    "            easyGates.append(\"X\")\n",
    "        elif \"y\" in line:\n",
    "            easyGates.append(\"Y\")\n",
    "        elif \"z\" in line:\n",
    "            easyGates.append(\"Z\")\n",
    "        elif \"t\" in line:\n",
    "            easyGates.append(\"T\")\n",
    "        elif \"id\" in line:\n",
    "            easyGates.append(\"I\")\n",
    "        elif \"barrier\" in line:\n",
    "            numCycles += 1\n",
    "        elif \"cx\" in line:\n",
    "            continue\n",
    "        else:\n",
    "            print(f\"unexpected line or gate in qasm interpretation in line {i} \")\n",
    "    \n",
    "    controls = []\n",
    "    targets = []\n",
    "    \n",
    "    for i in range(len(lis)):\n",
    "        line = lis[i]\n",
    "        if \"cx\" in line:\n",
    "            for j in range(len(line)):\n",
    "                if line[j] == \"]\":\n",
    "                    a=line[j-1]\n",
    "                    if j == 6:\n",
    "                        controls.append(a)\n",
    "                    elif j==11:\n",
    "                        targets.append(a)\n",
    "                    else:\n",
    "                        print(\"something weird happening with cx\")\n",
    "    return numQubits, numCycles, easyGates, controls, targets"
   ]
  },
  {
   "cell_type": "code",
   "execution_count": 4,
   "id": "070484a8-c590-40a6-aef0-68bd8abb58b1",
   "metadata": {},
   "outputs": [],
   "source": [
    "(numQubits, numCycles, easyGates, controls, targets)=parsing(bare)"
   ]
  },
  {
   "cell_type": "code",
   "execution_count": 5,
   "id": "1f95093e-def1-49b8-a4f1-78e7cccc407a",
   "metadata": {},
   "outputs": [],
   "source": [
    "def twirling_gates(numQubits, numCycles): #assigns T_k gates from Twirling set\n",
    "    twirling_set = [\"X\",\"Y\",\"Z\",\"I\"]\n",
    "    random_twirling = []\n",
    "    for i in range(numQubits*(numCycles-1)):\n",
    "        random_twirling.append(np.random.choice(twirling_set))\n",
    "    for i in range(numQubits):\n",
    "        random_twirling.append(\"I\")\n",
    "    return random_twirling"
   ]
  },
  {
   "cell_type": "code",
   "execution_count": 6,
   "id": "6ff606ea-57b9-4b33-96b5-4bca58bde40a",
   "metadata": {},
   "outputs": [
    {
     "data": {
      "text/plain": [
       "['Y', 'X', 'X', 'X', 'Y', 'I', 'I', 'I', 'I']"
      ]
     },
     "execution_count": 6,
     "metadata": {},
     "output_type": "execute_result"
    }
   ],
   "source": [
    "random_twirling = twirling_gates(numQubits, numCycles)\n",
    "random_twirling"
   ]
  },
  {
   "cell_type": "code",
   "execution_count": 7,
   "id": "54540400-0216-4391-8721-e0ef945ec341",
   "metadata": {},
   "outputs": [],
   "source": [
    "def inverting_operators(random_twirling, targets, numQubits):\n",
    "    target_indeces = []\n",
    "    for i in range(len(targets)): #getting indeces of inverting_matrices that need to change\n",
    "        target_indeces.append(str(int(targets[i])+ numQubits*i))\n",
    "    \n",
    "    inverting_gates = []\n",
    "    for i in range(numQubits):\n",
    "        inverting_gates.append(\"I\")\n",
    "    for i in range(len(random_twirling)-numQubits):\n",
    "        if str(i) in target_indeces:\n",
    "            #do multiplication formula:: Honestly, nevermind: just match with if state\n",
    "            if random_twirling[i]==\"X\":\n",
    "                inverting_gates.append(\"I\")\n",
    "            elif random_twirling[i]==\"Y\":\n",
    "                inverting_gates.append(\"Z\") #i think its a z rotation of maybe 180 degrees. Matrix is [i,0],[0,-i]\n",
    "            elif random_twirling[i]==\"Z\":   #the fact that it's a z rotation makes sense w pen method.\n",
    "                inverting_gates.append(\"Y\") #not sure if correct. matrix is [0,-1],[1,0]\n",
    "            elif random_twirling[i]==\"I\":\n",
    "                inverting_gates.append(\"X\")\n",
    "            else:\n",
    "                print(\"unrecognized gate before cx target qubit in prev. cycle\")\n",
    "        else:\n",
    "            inverting_gates.append(random_twirling[i])\n",
    "    return target_indeces, inverting_gates\n",
    "        "
   ]
  },
  {
   "cell_type": "code",
   "execution_count": 8,
   "id": "4756050a-84ef-43eb-a727-c21bbaf608d3",
   "metadata": {},
   "outputs": [
    {
     "data": {
      "text/plain": [
       "['I', 'I', 'I', 'Y', 'I', 'X', 'X', 'Y', 'X']"
      ]
     },
     "execution_count": 8,
     "metadata": {},
     "output_type": "execute_result"
    }
   ],
   "source": [
    "(target_indeces, inverting_gates)=inverting_operators(random_twirling, targets, numQubits)\n",
    "inverting_gates"
   ]
  },
  {
   "cell_type": "code",
   "execution_count": 9,
   "id": "556da2d8-db44-4154-8dfd-ea41a5f34b5c",
   "metadata": {},
   "outputs": [],
   "source": [
    "def gate2mat(gate):\n",
    "    if gate == \"X\":\n",
    "        gate_matrix = np.array([[0,1],\n",
    "                                [1,0]])\n",
    "    elif gate == \"Y\":\n",
    "        gate_matrix = np.array([[0,-1j],\n",
    "                                [1j,0]])\n",
    "    elif gate == \"Z\":\n",
    "        gate_matrix = np.array([[1,0],\n",
    "                                [0,-1]])\n",
    "    elif gate == \"H\":\n",
    "        gate_matrix = 1/np.sqrt(2) *np.array([[1,1],\n",
    "                                [1,-1]])\n",
    "    elif gate == \"I\":\n",
    "        gate_matrix = np.array([[1,0],\n",
    "                                [0,1]])\n",
    "    elif gate == \"T\":\n",
    "        gate_matrix = np.array([[1,0],\n",
    "                                [0,np.exp(1j*np.pi/4)]])\n",
    "    else:\n",
    "        print(f\"matrix {gate} not recognized\")\n",
    "        gate_matrix = np.array([[0,0],[0,0]])\n",
    "    return gate_matrix"
   ]
  },
  {
   "cell_type": "code",
   "execution_count": 10,
   "id": "5c135b0e-f266-42b8-b1df-043ce274ed44",
   "metadata": {},
   "outputs": [],
   "source": [
    "def reduction(easyGates, random_twirling, inverting_gates, numQubits, numCycles):\n",
    "    compiled_gates = np.zeros((numQubits*numCycles,2,2),dtype = 'complex_')\n",
    "    \n",
    "    for i in range(numQubits*numCycles):\n",
    "        mat1=gate2mat(inverting_gates[i])\n",
    "        mat2=gate2mat(easyGates[i])\n",
    "        mat3=gate2mat(random_twirling[i])\n",
    "        a=np.dot(mat2,mat1)\n",
    "        compiled_gates[i]=np.dot(mat3,a)\n",
    "    \n",
    "    #want to return an array, matrix of 2x2x(however \n",
    "    #many easy gates we have in the circuit= numQubits*numCycles)\n",
    "    return compiled_gates"
   ]
  },
  {
   "cell_type": "code",
   "execution_count": 11,
   "id": "34bf77c2-153b-452b-85bd-b3db6a7008cd",
   "metadata": {},
   "outputs": [
    {
     "data": {
      "text/plain": [
       "array([[[ 0.        -0.70710678j,  0.        +0.70710678j],\n",
       "        [ 0.        +0.70710678j, -0.        +0.70710678j]],\n",
       "\n",
       "       [[ 0.        +0.j        ,  1.        +0.j        ],\n",
       "        [ 1.        +0.j        ,  0.        +0.j        ]],\n",
       "\n",
       "       [[ 0.        +0.j        ,  1.        +0.j        ],\n",
       "        [ 1.        +0.j        ,  0.        +0.j        ]],\n",
       "\n",
       "       [[ 0.        +0.j        ,  1.        +0.j        ],\n",
       "        [ 1.        +0.j        ,  0.        +0.j        ]],\n",
       "\n",
       "       [[ 0.        +0.j        ,  0.        -1.j        ],\n",
       "        [ 0.        +1.j        ,  0.        +0.j        ]],\n",
       "\n",
       "       [[ 0.70710678+0.j        ,  0.70710678+0.j        ],\n",
       "        [-0.70710678+0.j        ,  0.70710678+0.j        ]],\n",
       "\n",
       "       [[ 0.        +0.j        ,  1.        +0.j        ],\n",
       "        [ 1.        +0.j        ,  0.        +0.j        ]],\n",
       "\n",
       "       [[ 0.        +1.j        ,  0.        +0.j        ],\n",
       "        [ 0.        +0.j        ,  0.        -1.j        ]],\n",
       "\n",
       "       [[ 0.        +0.j        ,  1.        +0.j        ],\n",
       "        [ 1.        +0.j        ,  0.        +0.j        ]]])"
      ]
     },
     "execution_count": 11,
     "metadata": {},
     "output_type": "execute_result"
    }
   ],
   "source": [
    "(compiled_gates)=reduction(easyGates, random_twirling, inverting_gates, numQubits, numCycles)\n",
    "compiled_gates"
   ]
  },
  {
   "cell_type": "code",
   "execution_count": 23,
   "id": "e4434d73-13de-4027-95c5-1f485ed10020",
   "metadata": {},
   "outputs": [],
   "source": [
    "#turn matrix into gate: will need to know how to generalize the forms of the\n",
    "# possible matrices\n",
    "def mat2gate(a): #given a 2x2 np.array()\n",
    "    gate=[]\n",
    "    gateList = [\"X\", \"Y\", \"Z\", \"H\", \"I\", \"T\", \"H\",\"H\",\"H\",\"H\",\"H\",\"H\",\"H\",\"H\",\"X\",\"X\",\"X\",\"Z\",\"Z\",\"Z\",\n",
    "                \"Yn90\", \"I\", \"Yn90\"]\n",
    "    \n",
    "    X = np.array([[0,1],[1,0]])\n",
    "    Y = np.array([[0,-1j],[1j,0]])\n",
    "    Z = np.array([[1,0],[0,-1]])\n",
    "    H = 1/np.sqrt(2) *np.array([[1,1],[1,-1]])\n",
    "    I = np.array([[1,0],[0,1]])\n",
    "    T = np.array([[1,0],[0,np.exp(1j*np.pi/4)]])\n",
    "    \n",
    "    #extra gates I've been adding after running code:\n",
    "    H2 = 1/np.sqrt(2)*np.array([[-1,-1],[-1,1]])\n",
    "    H3 = 1/np.sqrt(2)*np.array([[-1j,-1j],[-1j,1j]])\n",
    "    H4 = 1/np.sqrt(2) *np.array([[1j,1j],[1j,-1j]])\n",
    "    H5 = 1/np.sqrt(2)*np.array([[1,-1],[1,1]])\n",
    "    H6 = 1/np.sqrt(2) *np.array([[-1,1],[-1,-1]])\n",
    "    H7 = 1/np.sqrt(2)*np.array([[1j,-1j],[1j,1j]])\n",
    "    H8 = 1/np.sqrt(2) *np.array([[-1j,1j],[-1j,-1j]])\n",
    "    H9 = 1/np.sqrt(2) *np.array([[1,-1],[-1,-1]])\n",
    "    \n",
    "    X2 = np.array([[0,-1j],[-1j,0]])\n",
    "    X3 = np.array([[0,-1],[-1,0]])\n",
    "    X4 = np.array([[0,1j],[1j,0]])\n",
    "    \n",
    "    Z2 = np.array([[1j,0],[0,-1j]])\n",
    "    Z3 = np.array([[-1,0],[0,1]])\n",
    "    Z4 = np.array([[-1j,0],[0,1j]])\n",
    "    \n",
    "    Yn90 = 1/np.sqrt(2) *np.array([[1,1],[-1,1]])\n",
    "    \n",
    "    I2 = np.array([[1j,0],[0,1j]])\n",
    "    \n",
    "    minusOpp = 1/np.sqrt(2) *np.array([[-1,1],[1,1]])\n",
    "    minusOpp2 = 1/np.sqrt(2) *np.array([[-1j,1j],[1j,1j]]) #this gate is awkward because\n",
    "    #we can get to this location with a simple Yn90 gate, but to get the orientation\n",
    "    # of the vector precisely right, we would need at least two gates, ex. \"H\" then a \"Y\".\n",
    "    #For now, Ill just associate this matrix with the Yn90 rotation.\n",
    "    \n",
    "    matList = [X, Y, Z, H, I, T, H2,H3,H4,H5,H6,H7,H8,H9,X2,X3,X4,Z2, Z3, Z4,\n",
    "               Yn90, I2, minusOpp] #only works for these specific definitions\n",
    "    for i,item in enumerate(matList):\n",
    "        if (a == item).all():\n",
    "            gate = gateList[i]\n",
    "    if gate == []:\n",
    "        print(f\"the following gate needs to be defined:{a}\")\n",
    "    return gate"
   ]
  },
  {
   "cell_type": "code",
   "execution_count": 24,
   "id": "fba6e655-0980-4ebf-9010-96f936fa1727",
   "metadata": {},
   "outputs": [],
   "source": [
    "def instructions(compiled_gates):\n",
    "    randEZgates = []\n",
    "    for i in range(len(compiled_gates)):\n",
    "        randEZgates.append(mat2gate(compiled_gates[i]))\n",
    "        \n",
    "    return randEZgates"
   ]
  },
  {
   "cell_type": "code",
   "execution_count": 25,
   "id": "a5f98fee-9862-480f-a52d-dd252c54aff2",
   "metadata": {},
   "outputs": [
    {
     "name": "stdout",
     "output_type": "stream",
     "text": [
      "the following gate needs to be defined:[[ 0.-0.70710678j  0.+0.70710678j]\n",
      " [ 0.+0.70710678j -0.+0.70710678j]]\n",
      "[[], 'X', 'X', 'X', 'Y', 'Yn90', 'X', 'Z', 'X']\n",
      "['Y', 'X', 'X', 'X', 'Y', 'I', 'I', 'I', 'I']\n",
      "['I', 'I', 'I', 'Y', 'I', 'X', 'X', 'Y', 'X']\n"
     ]
    },
    {
     "data": {
      "text/html": [
       "<pre style=\"word-wrap: normal;white-space: pre;background: #fff0;line-height: 1.1;font-family: &quot;Courier New&quot;,Courier,monospace\">     ┌───┐      ░ ┌───┐      ░ ┌───┐\n",
       "q_0: ┤ H ├──■───░─┤ Y ├──────░─┤ I ├\n",
       "     ├───┤┌─┴─┐ ░ ├───┤      ░ ├───┤\n",
       "q_1: ┤ I ├┤ X ├─░─┤ I ├──■───░─┤ X ├\n",
       "     ├───┤└───┘ ░ ├───┤┌─┴─┐ ░ ├───┤\n",
       "q_2: ┤ I ├──────░─┤ H ├┤ X ├─░─┤ I ├\n",
       "     └───┘      ░ └───┘└───┘ ░ └───┘\n",
       "c: 1/═══════════════════════════════\n",
       "                                    </pre>"
      ],
      "text/plain": [
       "     ┌───┐      ░ ┌───┐      ░ ┌───┐\n",
       "q_0: ┤ H ├──■───░─┤ Y ├──────░─┤ I ├\n",
       "     ├───┤┌─┴─┐ ░ ├───┤      ░ ├───┤\n",
       "q_1: ┤ I ├┤ X ├─░─┤ I ├──■───░─┤ X ├\n",
       "     ├───┤└───┘ ░ ├───┤┌─┴─┐ ░ ├───┤\n",
       "q_2: ┤ I ├──────░─┤ H ├┤ X ├─░─┤ I ├\n",
       "     └───┘      ░ └───┘└───┘ ░ └───┘\n",
       "c: 1/═══════════════════════════════\n",
       "                                    "
      ]
     },
     "execution_count": 25,
     "metadata": {},
     "output_type": "execute_result"
    }
   ],
   "source": [
    "randEZgates = instructions(compiled_gates)\n",
    "print(randEZgates)\n",
    "print(random_twirling)\n",
    "print(inverting_gates)\n",
    "bare.draw()"
   ]
  },
  {
   "cell_type": "code",
   "execution_count": 22,
   "id": "bdf69541-907a-4ef5-adfb-a1a56adabd18",
   "metadata": {},
   "outputs": [
    {
     "data": {
      "text/plain": [
       "array([[ 0.-0.70710678j,  0.+0.70710678j],\n",
       "       [ 0.+0.70710678j, -0.+0.70710678j]])"
      ]
     },
     "execution_count": 22,
     "metadata": {},
     "output_type": "execute_result"
    }
   ],
   "source": [
    "mat1=gate2mat(\"H\") #for testing the previous function \n",
    "mat2=gate2mat(\"Y\") #and determining which arrays to account for\n",
    "plop=np.dot(mat2,mat1)\n",
    "mat3=gate2mat(\"Y\")\n",
    "np.dot(mat3,plop)\n",
    "plop"
   ]
  },
  {
   "cell_type": "code",
   "execution_count": 16,
   "id": "ef5564b1-99a2-44d8-b309-54af2ffba7bf",
   "metadata": {},
   "outputs": [],
   "source": [
    "def final_product(randEZgates, controls, targets, numQubits):\n",
    "    RCqc=QuantumCircuit(numQubits)\n",
    "    for j in range(len(targets)):\n",
    "        for i in range(numQubits):\n",
    "            var = randEZgates[i+j*numQubits]\n",
    "            if var == \"X\":\n",
    "                RCqc.x(i)\n",
    "            elif var == \"Y\":\n",
    "                RCqc.y(i)\n",
    "            elif var == \"Z\":\n",
    "                RCqc.z(i)\n",
    "            elif var == \"H\":\n",
    "                RCqc.h(i)\n",
    "            elif var == \"I\":\n",
    "                RCqc.id(i)\n",
    "            elif var == \"T\":\n",
    "                RCqc.t(i)\n",
    "            elif var == \"Yn90\": #the weird class of compiled gates:\n",
    "                RCqc.ry(-np.pi/2,i)\n",
    "            else:\n",
    "                print(f\"randEXgates has unexpected gate from mat2gate function at index {i}\")\n",
    "            #all the other gates we could possibly get, including paramaterized gates somehow\n",
    "        RCqc.cx(int(controls[j]),int(targets[j]))\n",
    "        RCqc.barrier()\n",
    "    \n",
    "    for i in range(len(targets)*numQubits,len(randEZgates)):\n",
    "        var = randEZgates[i]\n",
    "        if var == \"X\":\n",
    "            RCqc.x(i-len(targets)*numQubits)\n",
    "        elif var == \"Y\":\n",
    "            RCqc.y(i-len(targets)*numQubits)\n",
    "        elif var == \"Z\":\n",
    "            RCqc.z(i-len(targets)*numQubits)\n",
    "        elif var == \"H\":\n",
    "            RCqc.h(i-len(targets)*numQubits)\n",
    "        elif var == \"I\":\n",
    "            RCqc.id(i-len(targets)*numQubits)\n",
    "        elif var == \"T\":\n",
    "            RCqc.t(i-len(targets)*numQubits)\n",
    "        else:\n",
    "            print(f\"randEXgates has unexpected gate from mat2gate function at index {i-len(targets)*numQubits-1}\")\n",
    "    #one final loop for last round of randEZgates (not attached to hard gate cycle)\n",
    "    return RCqc"
   ]
  },
  {
   "cell_type": "code",
   "execution_count": 17,
   "id": "933e9cae-2da7-4ffb-85ec-e4d1d9cfeb5b",
   "metadata": {},
   "outputs": [
    {
     "name": "stdout",
     "output_type": "stream",
     "text": [
      "randEXgates has unexpected gate from mat2gate function at index 0\n"
     ]
    },
    {
     "data": {
      "text/html": [
       "<pre style=\"word-wrap: normal;white-space: pre;background: #fff0;line-height: 1.1;font-family: &quot;Courier New&quot;,Courier,monospace\">                ░    ┌───┐          ░ ┌───┐\n",
       "q_0: ───────■───░────┤ X ├──────────░─┤ X ├\n",
       "     ┌───┐┌─┴─┐ ░    ├───┤          ░ ├───┤\n",
       "q_1: ┤ X ├┤ X ├─░────┤ Y ├──────■───░─┤ Z ├\n",
       "     ├───┤└───┘ ░ ┌──┴───┴───┐┌─┴─┐ ░ ├───┤\n",
       "q_2: ┤ X ├──────░─┤ RY(-π/2) ├┤ X ├─░─┤ X ├\n",
       "     └───┘      ░ └──────────┘└───┘ ░ └───┘</pre>"
      ],
      "text/plain": [
       "                ░    ┌───┐          ░ ┌───┐\n",
       "q_0: ───────■───░────┤ X ├──────────░─┤ X ├\n",
       "     ┌───┐┌─┴─┐ ░    ├───┤          ░ ├───┤\n",
       "q_1: ┤ X ├┤ X ├─░────┤ Y ├──────■───░─┤ Z ├\n",
       "     ├───┤└───┘ ░ ┌──┴───┴───┐┌─┴─┐ ░ ├───┤\n",
       "q_2: ┤ X ├──────░─┤ RY(-π/2) ├┤ X ├─░─┤ X ├\n",
       "     └───┘      ░ └──────────┘└───┘ ░ └───┘"
      ]
     },
     "execution_count": 17,
     "metadata": {},
     "output_type": "execute_result"
    }
   ],
   "source": [
    "qc = final_product(randEZgates, controls, targets, numQubits)\n",
    "qc.draw()"
   ]
  },
  {
   "cell_type": "code",
   "execution_count": 18,
   "id": "ea9f18d7-14c7-4ea4-b922-771593643346",
   "metadata": {},
   "outputs": [],
   "source": [
    "#run bare circuit and qc (RC) "
   ]
  },
  {
   "cell_type": "code",
   "execution_count": 19,
   "id": "c174f1c0-f1be-4b81-849d-a01b74a57aa6",
   "metadata": {},
   "outputs": [
    {
     "data": {
      "text/html": [
       "<pre style=\"word-wrap: normal;white-space: pre;background: #fff0;line-height: 1.1;font-family: &quot;Courier New&quot;,Courier,monospace\">     ┌─────────┐\n",
       "q_0: ┤ RY(π/2) ├\n",
       "     └─────────┘</pre>"
      ],
      "text/plain": [
       "     ┌─────────┐\n",
       "q_0: ┤ RY(π/2) ├\n",
       "     └─────────┘"
      ]
     },
     "execution_count": 19,
     "metadata": {},
     "output_type": "execute_result"
    }
   ],
   "source": [
    "hey = QuantumCircuit(1) #for testing how to apply a parematrized gate\n",
    "hey.ry(np.pi/2, 0)\n",
    "hey.draw()"
   ]
  },
  {
   "cell_type": "code",
   "execution_count": 20,
   "id": "0297b9ae-89ce-49b2-8d61-d80bba0a4803",
   "metadata": {},
   "outputs": [],
   "source": [
    "from qiskit import visualization #also for testing, but it didnt work\n",
    "from qiskit.visualization import visualize_transition "
   ]
  },
  {
   "cell_type": "code",
   "execution_count": 21,
   "id": "f454f877-0867-4adc-829a-e6ddde00d1a1",
   "metadata": {},
   "outputs": [],
   "source": [
    "#lingering questions: ask Phil if orientation of\n",
    "#the vector matters, or just its position in the Bloch Sphere"
   ]
  }
 ],
 "metadata": {
  "kernelspec": {
   "display_name": "Python 3 (ipykernel)",
   "language": "python",
   "name": "python3"
  },
  "language_info": {
   "codemirror_mode": {
    "name": "ipython",
    "version": 3
   },
   "file_extension": ".py",
   "mimetype": "text/x-python",
   "name": "python",
   "nbconvert_exporter": "python",
   "pygments_lexer": "ipython3",
   "version": "3.9.7"
  }
 },
 "nbformat": 4,
 "nbformat_minor": 5
}
