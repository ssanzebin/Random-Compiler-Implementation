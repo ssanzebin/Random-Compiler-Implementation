{
 "cells": [
  {
   "cell_type": "code",
   "execution_count": 8,
   "id": "9b29ebd3-84fc-4c61-aae6-5a9ba94462be",
   "metadata": {},
   "outputs": [],
   "source": [
    "import numpy as np\n",
    "import qiskit as qc\n",
    "from qiskit.providers.aer import QasmSimulator\n",
    "from qiskit import QuantumCircuit, ClassicalRegister, QuantumRegister, transpile\n",
    "from qiskit.tools.visualization import circuit_drawer\n",
    "from qiskit.quantum_info import state_fidelity\n",
    "from qiskit import BasicAer\n",
    "\n",
    "backend = BasicAer.get_backend('unitary_simulator')"
   ]
  },
  {
   "cell_type": "code",
   "execution_count": 9,
   "id": "d73b16a4-6785-4572-b52f-d9a853ea3d25",
   "metadata": {},
   "outputs": [
    {
     "data": {
      "text/plain": [
       "<qiskit.circuit.instructionset.InstructionSet at 0x7f190d6573a0>"
      ]
     },
     "execution_count": 9,
     "metadata": {},
     "output_type": "execute_result"
    }
   ],
   "source": [
    "meep= QuantumCircuit(4,4)\n",
    "meep.x(0)\n",
    "meep.z(1)\n",
    "meep.cx(0,1)\n",
    "meep.i(0)\n",
    "meep.x(3)\n",
    "meep.h(2)\n",
    "meep.cx(0,3)"
   ]
  },
  {
   "cell_type": "code",
   "execution_count": 10,
   "id": "ad33d0ab-c1f7-4c16-9fea-a6d8d37db644",
   "metadata": {},
   "outputs": [],
   "source": [
    "def get_gates_and_cx_qubits(qcircuit):\n",
    "    ## FOUND ISSUE: THE i GATE IS SOMEHOW CHANGED INTO A d GATE?? qasm also says its d gate. \n",
    "    line = \"\"\n",
    "    lis = []\n",
    "    thingy = qcircuit.qasm()\n",
    "    for s in thingy:\n",
    "        if s == \";\":\n",
    "            lis.append(line)\n",
    "            line = \"\"\n",
    "        elif s == \"\\n\":\n",
    "            pass\n",
    "        else:\n",
    "            line += s\n",
    "            \n",
    "    gate_list = []\n",
    "    cx_list_pairs = []\n",
    "    for word in lis:\n",
    "        for letter in word:\n",
    "            if letter == \"q\"  and word[word.index(letter)+1] == \"[\" and word[word.index(letter)-2] != \"g\" and word[word.index(letter)-3] != \"c\":\n",
    "                gate_list.append(word[word.index(letter)-2])\n",
    "            if letter == \"c\" and  word[word.index(letter)+1] == \"x\":\n",
    "                pair_list = []\n",
    "                pair_list.append(word[word.index(letter)+5])\n",
    "                pair_list.append(word[word.index(letter)+10])\n",
    "                cx_list_pairs.append(pair_list)\n",
    "                pair_list= []\n",
    "    return gate_list, cx_list_pairs ## ex: returns the following: ['x', 'z'], [['0','1'], ['1','2']]\n"
   ]
  },
  {
   "cell_type": "code",
   "execution_count": 6,
   "id": "19c72b50-da65-4811-b784-af2435b0237f",
   "metadata": {},
   "outputs": [
    {
     "data": {
      "text/plain": [
       "(['x', 'z', 'd', 'x', 'h'], [['0', '1'], ['0', '3']])"
      ]
     },
     "execution_count": 6,
     "metadata": {},
     "output_type": "execute_result"
    }
   ],
   "source": [
    "get_gates_and_cx_qubits(meep)"
   ]
  }
 ],
 "metadata": {
  "kernelspec": {
   "display_name": "Python 3 (ipykernel)",
   "language": "python",
   "name": "python3"
  },
  "language_info": {
   "codemirror_mode": {
    "name": "ipython",
    "version": 3
   },
   "file_extension": ".py",
   "mimetype": "text/x-python",
   "name": "python",
   "nbconvert_exporter": "python",
   "pygments_lexer": "ipython3",
   "version": "3.9.7"
  },
  "widgets": {
   "application/vnd.jupyter.widget-state+json": {
    "state": {
     "009e23df518c472eba4bcbb9dad2ee18": {
      "model_module": "@jupyter-widgets/base",
      "model_module_version": "1.2.0",
      "model_name": "LayoutModel",
      "state": {
       "width": "145px"
      }
     },
     "029bf2f7cb13474ea4f1443f498a51b3": {
      "model_module": "@jupyter-widgets/base",
      "model_module_version": "1.2.0",
      "model_name": "LayoutModel",
      "state": {
       "margin": "0px 0px 0px 37px",
       "width": "600px"
      }
     },
     "04cf3861af7643418f634a3272c2dcc9": {
      "model_module": "@jupyter-widgets/controls",
      "model_module_version": "1.5.0",
      "model_name": "ButtonModel",
      "state": {
       "button_style": "primary",
       "description": "Clear",
       "layout": "IPY_MODEL_d4f1d6ca9c974cfbbe37e068dcbe1efb",
       "style": "IPY_MODEL_4d7eb3225df24bbca1184e3c0bbf16fe"
      }
     },
     "06bac578fe4648148a5fd7cdd8508f5c": {
      "model_module": "@jupyter-widgets/base",
      "model_module_version": "1.2.0",
      "model_name": "LayoutModel",
      "state": {
       "width": "70px"
      }
     },
     "0839e492745d494fa88a8fee647662c4": {
      "model_module": "@jupyter-widgets/controls",
      "model_module_version": "1.5.0",
      "model_name": "DescriptionStyleModel",
      "state": {
       "description_width": ""
      }
     },
     "0d8643c560374cb4955ffef3ee35e064": {
      "model_module": "@jupyter-widgets/base",
      "model_module_version": "1.2.0",
      "model_name": "LayoutModel",
      "state": {}
     },
     "19daa5ff87da4dafa74f4f02a01aea67": {
      "model_module": "@jupyter-widgets/controls",
      "model_module_version": "1.5.0",
      "model_name": "DescriptionStyleModel",
      "state": {
       "description_width": ""
      }
     },
     "1ccc39f41be54b50a0a59ed821a1bfd9": {
      "model_module": "@jupyter-widgets/base",
      "model_module_version": "1.2.0",
      "model_name": "LayoutModel",
      "state": {
       "grid_template_areas": "\n                                       \". . . . right \"\n                                        ",
       "grid_template_columns": "20% 20% 20% 20% 20%",
       "width": "100%"
      }
     },
     "2a3e302620c347b48c0acd2cb52d0a53": {
      "model_module": "@jupyter-widgets/controls",
      "model_module_version": "1.5.0",
      "model_name": "DescriptionStyleModel",
      "state": {
       "description_width": ""
      }
     },
     "2b98d01d161347b0a1aaea1da2375984": {
      "model_module": "@jupyter-widgets/controls",
      "model_module_version": "1.5.0",
      "model_name": "DescriptionStyleModel",
      "state": {
       "description_width": ""
      }
     },
     "320c69158c824f31a75ea8a0d7d66771": {
      "model_module": "@jupyter-widgets/controls",
      "model_module_version": "1.5.0",
      "model_name": "DescriptionStyleModel",
      "state": {
       "description_width": ""
      }
     },
     "351774a36a7c40d7a1c85583b6677602": {
      "model_module": "@jupyter-widgets/controls",
      "model_module_version": "1.5.0",
      "model_name": "HTMLModel",
      "state": {
       "layout": "IPY_MODEL_d434d3c731db4a0382d0748f4d90f0a3",
       "style": "IPY_MODEL_c157afde62dd47ce9705b1ba3f7095eb",
       "value": "<p style='font-family: IBM Plex Sans, Arial, Helvetica, sans-serif; font-size: 20px; font-weight: medium;'>Circuit Properties</p>"
      }
     },
     "36525dad66cd413db321f78d75b01794": {
      "model_module": "@jupyter-widgets/controls",
      "model_module_version": "1.5.0",
      "model_name": "GridBoxModel",
      "state": {
       "children": [
        "IPY_MODEL_04cf3861af7643418f634a3272c2dcc9"
       ],
       "layout": "IPY_MODEL_cf7ecfe192774ff5b7596ce01b67d384"
      }
     },
     "4b71a450def34ff480678a3b6fd5113b": {
      "model_module": "@jupyter-widgets/controls",
      "model_module_version": "1.5.0",
      "model_name": "HTMLModel",
      "state": {
       "layout": "IPY_MODEL_76466870667e41ff8ac1e058640dc697",
       "style": "IPY_MODEL_a48140424e9d485a868f5361431ac43a",
       "value": "<h5>Status</h5>"
      }
     },
     "4d7eb3225df24bbca1184e3c0bbf16fe": {
      "model_module": "@jupyter-widgets/controls",
      "model_module_version": "1.5.0",
      "model_name": "ButtonStyleModel",
      "state": {}
     },
     "51d316cd53cd4f0099362127030607e3": {
      "model_module": "@jupyter-widgets/base",
      "model_module_version": "1.2.0",
      "model_name": "LayoutModel",
      "state": {
       "width": "190px"
      }
     },
     "543ecdbc38fe4b6cbae5f42cf29def9a": {
      "model_module": "@jupyter-widgets/base",
      "model_module_version": "1.2.0",
      "model_name": "LayoutModel",
      "state": {
       "width": "190px"
      }
     },
     "5785055a686041dc8d29abf4775f064c": {
      "model_module": "@jupyter-widgets/controls",
      "model_module_version": "1.5.0",
      "model_name": "DescriptionStyleModel",
      "state": {
       "description_width": ""
      }
     },
     "5d48331c5c3a48f8ba54517d5f432363": {
      "model_module": "@jupyter-widgets/controls",
      "model_module_version": "1.5.0",
      "model_name": "HTMLModel",
      "state": {
       "layout": "IPY_MODEL_543ecdbc38fe4b6cbae5f42cf29def9a",
       "style": "IPY_MODEL_19daa5ff87da4dafa74f4f02a01aea67",
       "value": "<h5>Job ID</h5>"
      }
     },
     "737ab67326554c8687a48d75645b2a9f": {
      "model_module": "@jupyter-widgets/controls",
      "model_module_version": "1.5.0",
      "model_name": "GridBoxModel",
      "state": {
       "children": [
        "IPY_MODEL_d37dd0f791f4452184d97c2c7eb41f37"
       ],
       "layout": "IPY_MODEL_1ccc39f41be54b50a0a59ed821a1bfd9"
      }
     },
     "7402d68e024b487f9558a8678d29fafd": {
      "model_module": "@jupyter-widgets/controls",
      "model_module_version": "1.5.0",
      "model_name": "DescriptionStyleModel",
      "state": {
       "description_width": ""
      }
     },
     "7545c0322fbd410199fd52d0d8a77d17": {
      "model_module": "@jupyter-widgets/controls",
      "model_module_version": "1.5.0",
      "model_name": "HTMLModel",
      "state": {
       "layout": "IPY_MODEL_009e23df518c472eba4bcbb9dad2ee18",
       "style": "IPY_MODEL_2a3e302620c347b48c0acd2cb52d0a53",
       "value": "<h5>Backend</h5>"
      }
     },
     "76466870667e41ff8ac1e058640dc697": {
      "model_module": "@jupyter-widgets/base",
      "model_module_version": "1.2.0",
      "model_name": "LayoutModel",
      "state": {
       "width": "95px"
      }
     },
     "7e40b6f8f63748bdb1feef5407e03ae9": {
      "model_module": "@jupyter-widgets/controls",
      "model_module_version": "1.5.0",
      "model_name": "HTMLModel",
      "state": {
       "layout": "IPY_MODEL_0d8643c560374cb4955ffef3ee35e064",
       "style": "IPY_MODEL_5785055a686041dc8d29abf4775f064c",
       "value": "<h5>Message</h5>"
      }
     },
     "7f9679f441c24be4838f1b189f46976f": {
      "model_module": "@jupyter-widgets/controls",
      "model_module_version": "1.5.0",
      "model_name": "DescriptionStyleModel",
      "state": {
       "description_width": ""
      }
     },
     "81be651692364d4ca979a294dce50f50": {
      "model_module": "@jupyter-widgets/controls",
      "model_module_version": "1.5.0",
      "model_name": "HTMLModel",
      "state": {
       "layout": "IPY_MODEL_51d316cd53cd4f0099362127030607e3",
       "style": "IPY_MODEL_ab57eafc4a7a4fcd8bec6d9a113d17c3",
       "value": "<h5>Job ID</h5>"
      }
     },
     "876434571a604d29892ce8361522427e": {
      "model_module": "@jupyter-widgets/controls",
      "model_module_version": "1.5.0",
      "model_name": "HTMLModel",
      "state": {
       "layout": "IPY_MODEL_bf081e0b6227419e811cd99034bde578",
       "style": "IPY_MODEL_7402d68e024b487f9558a8678d29fafd",
       "value": "<h5>Queue</h5>"
      }
     },
     "91da0461c8db4a05a2fe55b7c45d2820": {
      "model_module": "@jupyter-widgets/controls",
      "model_module_version": "1.5.0",
      "model_name": "DescriptionStyleModel",
      "state": {
       "description_width": ""
      }
     },
     "9a253f378dd7476ca56fc9239ffebe5b": {
      "model_module": "@jupyter-widgets/controls",
      "model_module_version": "1.5.0",
      "model_name": "ButtonStyleModel",
      "state": {}
     },
     "a1a4fc1639e042fd860efacee58c0e75": {
      "model_module": "@jupyter-widgets/base",
      "model_module_version": "1.2.0",
      "model_name": "LayoutModel",
      "state": {
       "margin": "0px 0px 0px 37px",
       "width": "600px"
      }
     },
     "a43dbc6e9b284ad98484fcf331f5a0ea": {
      "model_module": "@jupyter-widgets/base",
      "model_module_version": "1.2.0",
      "model_name": "LayoutModel",
      "state": {}
     },
     "a48140424e9d485a868f5361431ac43a": {
      "model_module": "@jupyter-widgets/controls",
      "model_module_version": "1.5.0",
      "model_name": "DescriptionStyleModel",
      "state": {
       "description_width": ""
      }
     },
     "a65be780fffc45478941637b064569b6": {
      "model_module": "@jupyter-widgets/controls",
      "model_module_version": "1.5.0",
      "model_name": "HBoxModel",
      "state": {
       "children": [
        "IPY_MODEL_5d48331c5c3a48f8ba54517d5f432363",
        "IPY_MODEL_dcc1063f98d1497abcc3b22de43ad4d9",
        "IPY_MODEL_4b71a450def34ff480678a3b6fd5113b",
        "IPY_MODEL_eddccf23683f46e8b076bb10688776ba",
        "IPY_MODEL_7e40b6f8f63748bdb1feef5407e03ae9"
       ],
       "layout": "IPY_MODEL_029bf2f7cb13474ea4f1443f498a51b3"
      }
     },
     "ab57eafc4a7a4fcd8bec6d9a113d17c3": {
      "model_module": "@jupyter-widgets/controls",
      "model_module_version": "1.5.0",
      "model_name": "DescriptionStyleModel",
      "state": {
       "description_width": ""
      }
     },
     "b0e4930ea985459fb4e2efbe9deebc34": {
      "model_module": "@jupyter-widgets/base",
      "model_module_version": "1.2.0",
      "model_name": "LayoutModel",
      "state": {
       "grid_area": "right",
       "padding": "0px 0px 0px 0px",
       "width": "70px"
      }
     },
     "bf081e0b6227419e811cd99034bde578": {
      "model_module": "@jupyter-widgets/base",
      "model_module_version": "1.2.0",
      "model_name": "LayoutModel",
      "state": {
       "width": "70px"
      }
     },
     "c157afde62dd47ce9705b1ba3f7095eb": {
      "model_module": "@jupyter-widgets/controls",
      "model_module_version": "1.5.0",
      "model_name": "DescriptionStyleModel",
      "state": {
       "description_width": ""
      }
     },
     "cf7ecfe192774ff5b7596ce01b67d384": {
      "model_module": "@jupyter-widgets/base",
      "model_module_version": "1.2.0",
      "model_name": "LayoutModel",
      "state": {
       "grid_template_areas": "\n                                       \". . . . right \"\n                                        ",
       "grid_template_columns": "20% 20% 20% 20% 20%",
       "width": "100%"
      }
     },
     "d1c040f329894c99b443d5a2eba58aa2": {
      "model_module": "@jupyter-widgets/controls",
      "model_module_version": "1.5.0",
      "model_name": "HBoxModel",
      "state": {
       "children": [
        "IPY_MODEL_81be651692364d4ca979a294dce50f50",
        "IPY_MODEL_7545c0322fbd410199fd52d0d8a77d17",
        "IPY_MODEL_edd6ca3e2ea744b9925c777d14d64d3a",
        "IPY_MODEL_876434571a604d29892ce8361522427e",
        "IPY_MODEL_efc3e6cb2bba459c8b663e779c565ba4"
       ],
       "layout": "IPY_MODEL_a1a4fc1639e042fd860efacee58c0e75"
      }
     },
     "d37dd0f791f4452184d97c2c7eb41f37": {
      "model_module": "@jupyter-widgets/controls",
      "model_module_version": "1.5.0",
      "model_name": "ButtonModel",
      "state": {
       "button_style": "primary",
       "description": "Clear",
       "layout": "IPY_MODEL_b0e4930ea985459fb4e2efbe9deebc34",
       "style": "IPY_MODEL_9a253f378dd7476ca56fc9239ffebe5b"
      }
     },
     "d434d3c731db4a0382d0748f4d90f0a3": {
      "model_module": "@jupyter-widgets/base",
      "model_module_version": "1.2.0",
      "model_name": "LayoutModel",
      "state": {
       "margin": "0px 0px 10px 0px"
      }
     },
     "d4f1d6ca9c974cfbbe37e068dcbe1efb": {
      "model_module": "@jupyter-widgets/base",
      "model_module_version": "1.2.0",
      "model_name": "LayoutModel",
      "state": {
       "grid_area": "right",
       "padding": "0px 0px 0px 0px",
       "width": "70px"
      }
     },
     "d9845fb4817d4082bc2511e15a3471e5": {
      "model_module": "@jupyter-widgets/base",
      "model_module_version": "1.2.0",
      "model_name": "LayoutModel",
      "state": {
       "margin": "0px 0px 10px 0px"
      }
     },
     "dcc1063f98d1497abcc3b22de43ad4d9": {
      "model_module": "@jupyter-widgets/controls",
      "model_module_version": "1.5.0",
      "model_name": "HTMLModel",
      "state": {
       "layout": "IPY_MODEL_eb6bf80528114f9299e05d410b9af390",
       "style": "IPY_MODEL_2b98d01d161347b0a1aaea1da2375984",
       "value": "<h5>Backend</h5>"
      }
     },
     "e7b38c911a804a629f37388097be948f": {
      "model_module": "@jupyter-widgets/controls",
      "model_module_version": "1.5.0",
      "model_name": "HTMLModel",
      "state": {
       "layout": "IPY_MODEL_d9845fb4817d4082bc2511e15a3471e5",
       "style": "IPY_MODEL_320c69158c824f31a75ea8a0d7d66771",
       "value": "<p style='font-family: IBM Plex Sans, Arial, Helvetica, sans-serif; font-size: 20px; font-weight: medium;'>Circuit Properties</p>"
      }
     },
     "eb6bf80528114f9299e05d410b9af390": {
      "model_module": "@jupyter-widgets/base",
      "model_module_version": "1.2.0",
      "model_name": "LayoutModel",
      "state": {
       "width": "145px"
      }
     },
     "edd6ca3e2ea744b9925c777d14d64d3a": {
      "model_module": "@jupyter-widgets/controls",
      "model_module_version": "1.5.0",
      "model_name": "HTMLModel",
      "state": {
       "layout": "IPY_MODEL_f4cf9c80ee17434a865cf7eba8b41d21",
       "style": "IPY_MODEL_91da0461c8db4a05a2fe55b7c45d2820",
       "value": "<h5>Status</h5>"
      }
     },
     "eddccf23683f46e8b076bb10688776ba": {
      "model_module": "@jupyter-widgets/controls",
      "model_module_version": "1.5.0",
      "model_name": "HTMLModel",
      "state": {
       "layout": "IPY_MODEL_06bac578fe4648148a5fd7cdd8508f5c",
       "style": "IPY_MODEL_7f9679f441c24be4838f1b189f46976f",
       "value": "<h5>Queue</h5>"
      }
     },
     "efc3e6cb2bba459c8b663e779c565ba4": {
      "model_module": "@jupyter-widgets/controls",
      "model_module_version": "1.5.0",
      "model_name": "HTMLModel",
      "state": {
       "layout": "IPY_MODEL_a43dbc6e9b284ad98484fcf331f5a0ea",
       "style": "IPY_MODEL_0839e492745d494fa88a8fee647662c4",
       "value": "<h5>Message</h5>"
      }
     },
     "f4cf9c80ee17434a865cf7eba8b41d21": {
      "model_module": "@jupyter-widgets/base",
      "model_module_version": "1.2.0",
      "model_name": "LayoutModel",
      "state": {
       "width": "95px"
      }
     }
    },
    "version_major": 2,
    "version_minor": 0
   }
  }
 },
 "nbformat": 4,
 "nbformat_minor": 5
}
