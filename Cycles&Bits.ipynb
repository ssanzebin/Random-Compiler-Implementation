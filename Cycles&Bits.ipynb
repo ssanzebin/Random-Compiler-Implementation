{
 "cells": [
  {
   "cell_type": "code",
   "execution_count": 26,
   "id": "e8a1f287-e44f-4754-bece-8f35213642e2",
   "metadata": {},
   "outputs": [
    {
     "name": "stderr",
     "output_type": "stream",
     "text": [
      "ibmqfactory.load_account:WARNING:2022-07-07 18:50:57,741: Credentials are already in use. The existing account in the session will be replaced.\n"
     ]
    }
   ],
   "source": [
    "import numpy as np\n",
    "# Importing standard Qiskit libraries\n",
    "from qiskit import QuantumCircuit, transpile, Aer, IBMQ\n",
    "from qiskit.tools.jupyter import *\n",
    "from qiskit.visualization import *\n",
    "from ibm_quantum_widgets import *\n",
    "from qiskit.providers.aer import QasmSimulator\n",
    "# Loading your IBM Quantum account(s)\n",
    "provider = IBMQ.load_account()"
   ]
  },
  {
   "cell_type": "code",
   "execution_count": 27,
   "id": "4c07a815-aa1b-4cc7-87c2-7aac1b046b9b",
   "metadata": {},
   "outputs": [],
   "source": [
    "import qiskit as qc\n",
    "from qiskit.circuit.random import random_circuit"
   ]
  },
  {
   "cell_type": "code",
   "execution_count": 37,
   "id": "41d94b7e-d879-49e6-8ef1-c068c7b93e6d",
   "metadata": {},
   "outputs": [],
   "source": [
    "baseCircuit = qc.QuantumCircuit(2,2)\n",
    "NumQubits = baseCircuit.num_qubits"
   ]
  },
  {
   "cell_type": "code",
   "execution_count": 38,
   "id": "8bc4940a-966b-43b4-9e1b-d7739941c8dd",
   "metadata": {},
   "outputs": [
    {
     "data": {
      "text/plain": [
       "<qiskit.circuit.instructionset.InstructionSet at 0x7f0156016140>"
      ]
     },
     "execution_count": 38,
     "metadata": {},
     "output_type": "execute_result"
    }
   ],
   "source": [
    "baseCircuit.h(0)\n",
    "baseCircuit.x(0)\n",
    "baseCircuit.h(1)\n",
    "baseCircuit.cx(0,1)\n",
    "baseCircuit.barrier(0)"
   ]
  },
  {
   "cell_type": "code",
   "execution_count": 39,
   "id": "5f6d75b4-d7c0-4cb4-a037-bd84f0118cbb",
   "metadata": {},
   "outputs": [
    {
     "data": {
      "image/png": "[encoded data removed]",
      "text/plain": [
       "<Figure size 327.252x204.68 with 1 Axes>"
      ]
     },
     "execution_count": 39,
     "metadata": {},
     "output_type": "execute_result"
    }
   ],
   "source": [
    "baseCircuit.draw()"
   ]
  },
  {
   "cell_type": "code",
   "execution_count": 40,
   "id": "413d16d2-b976-4d22-8eed-fa6cecd2be36",
   "metadata": {},
   "outputs": [],
   "source": [
    "strings = baseCircuit.qasm()"
   ]
  },
  {
   "cell_type": "code",
   "execution_count": 41,
   "id": "3f98c40b-790c-4baa-ad6e-0254c588655d",
   "metadata": {},
   "outputs": [
    {
     "name": "stdout",
     "output_type": "stream",
     "text": [
      "2\n"
     ]
    }
   ],
   "source": [
    "##gets the number of cycles applied to each gate\n",
    "def getBarriers(strings):\n",
    "    barriers = 0\n",
    "    res = strings.split()\n",
    "    for word in res:\n",
    "        if word == \"barrier\":\n",
    "            barriers += 1\n",
    "    return barriers\n",
    "NumCycles = getBarriers(strings) + 1\n",
    "print(NumCycles)"
   ]
  },
  {
   "cell_type": "code",
   "execution_count": 42,
   "id": "839124e3-f0e4-49eb-b4dd-2e08e9fab2aa",
   "metadata": {},
   "outputs": [],
   "source": [
    "## gets the list of gates & functions applied to each qubit\n",
    "lis = []\n",
    "line = \"\"\n",
    "for s in strings:\n",
    "    if s == \";\":\n",
    "        lis.append(line)\n",
    "        line = \"\"\n",
    "    elif s == \"\\n\":\n",
    "        pass\n",
    "    else:\n",
    "        line += s"
   ]
  },
  {
   "cell_type": "code",
   "execution_count": 52,
   "id": "f8d2f244-b1ea-435e-9828-e6cc9a1278c8",
   "metadata": {},
   "outputs": [
    {
     "data": {
      "text/plain": [
       "['OPENQASM 2.0',\n",
       " 'include \"qelib1.inc\"',\n",
       " 'qreg q[2]',\n",
       " 'creg c[2]',\n",
       " 'h q[0]',\n",
       " 'x q[0]',\n",
       " 'h q[1]',\n",
       " 'cx q[0],q[1]',\n",
       " 'barrier q[0]']"
      ]
     },
     "execution_count": 52,
     "metadata": {},
     "output_type": "execute_result"
    }
   ],
   "source": [
    "## print the number of gates\n",
    "lis "
   ]
  },
  {
   "cell_type": "code",
   "execution_count": 53,
   "id": "08ac8fa4-18c6-4e3e-a0c4-57d41b20365f",
   "metadata": {},
   "outputs": [],
   "source": [
    "##this will save the information for each circuit applied\n",
    "class CircuitInfo:\n",
    "    def __init__(circuit):\n",
    "        circuit.NumQubits = 0\n",
    "        circuit.NumCycles = 0\n",
    "        circuit.Gates = []\n",
    "    def getNumQubits(circuit):\n",
    "        return circuit.NumQubits\n",
    "    def getNumCycles(circuit):\n",
    "        return circuit.NumCycles\n",
    "    def setNumQubits(circuit, NumQubits):\n",
    "        circuit.NumQubits = NumQubits\n",
    "    def setNumCycles(circuit, NumCycles):\n",
    "        circuit.NumCycles = NumCycles\n",
    "    def getGates(circuit):\n",
    "        return circuit.Gates\n",
    "    def setGates(circuit, lis):\n",
    "        circuit.Gates = lis"
   ]
  },
  {
   "cell_type": "code",
   "execution_count": 54,
   "id": "723797f8-e9f9-4acd-91ee-76208b2170bc",
   "metadata": {},
   "outputs": [
    {
     "name": "stdout",
     "output_type": "stream",
     "text": [
      "3 2\n",
      "['OPENQASM 2.0', 'include \"qelib1.inc\"', 'qreg q[2]', 'creg c[2]', 'h q[0]', 'x q[0]', 'h q[1]', 'cx q[0],q[1]', 'barrier q[0]']\n"
     ]
    }
   ],
   "source": [
    "Alice = CircuitInfo()\n",
    "Alice.setNumQubits(QuantumBits)\n",
    "Alice.setNumCycles(NumCycles)\n",
    "Alice.setGates(lis)\n",
    "print(Alice.NumQubits, Alice.NumCycles)\n",
    "print(Alice.Gates)"
   ]
  },
  {
   "cell_type": "markdown",
   "id": "4d13d905-899e-4f00-a455-8d3286dea797",
   "metadata": {},
   "source": [
    "#1st function: take in the qc and return information, like, number of qubits, & number of cycles\n",
    "#def parse(QuantumCircuit):"
   ]
  }
 ],
 "metadata": {
  "kernelspec": {
   "display_name": "Python 3 (ipykernel)",
   "language": "python",
   "name": "python3"
  },
  "language_info": {
   "codemirror_mode": {
    "name": "ipython",
    "version": 3
   },
   "file_extension": ".py",
   "mimetype": "text/x-python",
   "name": "python",
   "nbconvert_exporter": "python",
   "pygments_lexer": "ipython3",
   "version": "3.8.13"
  },
  "widgets": {
   "application/vnd.jupyter.widget-state+json": {
    "state": {
     "010da7ba4447418d9be7e8238a91f1a5": {
      "model_module": "@jupyter-widgets/controls",
      "model_module_version": "1.5.0",
      "model_name": "GridBoxModel",
      "state": {
       "children": [
        "IPY_MODEL_7defb078094e468389c74f9deae8ccdb"
       ],
       "layout": "IPY_MODEL_a89bcd0b105a495d9cb5700aeb10d514"
      }
     },
     "0be59eab7bd144af923440bc815e6fd9": {
      "model_module": "@jupyter-widgets/controls",
      "model_module_version": "1.5.0",
      "model_name": "HTMLModel",
      "state": {
       "layout": "IPY_MODEL_b61428cd58734823a30f2cc874c51d7c",
       "style": "IPY_MODEL_e41b42f8c239448f922c4fe15d2d513c",
       "value": "<h5>Job ID</h5>"
      }
     },
     "18c37b09d83a45fd8853c6cd97e41919": {
      "model_module": "@jupyter-widgets/controls",
      "model_module_version": "1.5.0",
      "model_name": "HTMLModel",
      "state": {
       "layout": "IPY_MODEL_5f249d17cfe74131a637e2cf1682e97f",
       "style": "IPY_MODEL_b42acef9f13c4046aa22ee37b6dfe555",
       "value": "<h5>Status</h5>"
      }
     },
     "25645a9b36e34161afe9d69c55130b14": {
      "model_module": "@jupyter-widgets/base",
      "model_module_version": "1.2.0",
      "model_name": "LayoutModel",
      "state": {}
     },
     "354a01c3d9644209a8e4116e27d2f219": {
      "model_module": "@jupyter-widgets/controls",
      "model_module_version": "1.5.0",
      "model_name": "HTMLModel",
      "state": {
       "layout": "IPY_MODEL_9ae02972a2b647d89012d5060ca83b19",
       "style": "IPY_MODEL_3ee09589b03244fb85ea88c3f6ed62f9",
       "value": "<h5>Backend</h5>"
      }
     },
     "3a36b4d72faf4a4ba19967df1b806bba": {
      "model_module": "@jupyter-widgets/controls",
      "model_module_version": "1.5.0",
      "model_name": "HTMLModel",
      "state": {
       "layout": "IPY_MODEL_f3e41009025c457e95b8bb7b81d6a401",
       "style": "IPY_MODEL_881e148ffc29477f844ac6e4e3a5516f",
       "value": "<p style='font-family: IBM Plex Sans, Arial, Helvetica, sans-serif; font-size: 20px; font-weight: medium;'>Circuit Properties</p>"
      }
     },
     "3ee09589b03244fb85ea88c3f6ed62f9": {
      "model_module": "@jupyter-widgets/controls",
      "model_module_version": "1.5.0",
      "model_name": "DescriptionStyleModel",
      "state": {
       "description_width": ""
      }
     },
     "5a7f349ffbe6445fbc4eab9923f168f8": {
      "model_module": "@jupyter-widgets/controls",
      "model_module_version": "1.5.0",
      "model_name": "HBoxModel",
      "state": {
       "children": [
        "IPY_MODEL_0be59eab7bd144af923440bc815e6fd9",
        "IPY_MODEL_354a01c3d9644209a8e4116e27d2f219",
        "IPY_MODEL_18c37b09d83a45fd8853c6cd97e41919",
        "IPY_MODEL_89735892dd7142f0bfad069d7cfc7275",
        "IPY_MODEL_c92b263820f54346a8729bf022f1d05c"
       ],
       "layout": "IPY_MODEL_bfd00e42352f45f3bcc331b19e8d8967"
      }
     },
     "5f249d17cfe74131a637e2cf1682e97f": {
      "model_module": "@jupyter-widgets/base",
      "model_module_version": "1.2.0",
      "model_name": "LayoutModel",
      "state": {
       "width": "95px"
      }
     },
     "7defb078094e468389c74f9deae8ccdb": {
      "model_module": "@jupyter-widgets/controls",
      "model_module_version": "1.5.0",
      "model_name": "ButtonModel",
      "state": {
       "button_style": "primary",
       "description": "Clear",
       "layout": "IPY_MODEL_81087b9e3ea4496c888e5459af15d2af",
       "style": "IPY_MODEL_91cc8ae285b3497d87ea83183c00cf08"
      }
     },
     "81087b9e3ea4496c888e5459af15d2af": {
      "model_module": "@jupyter-widgets/base",
      "model_module_version": "1.2.0",
      "model_name": "LayoutModel",
      "state": {
       "grid_area": "right",
       "padding": "0px 0px 0px 0px",
       "width": "70px"
      }
     },
     "881e148ffc29477f844ac6e4e3a5516f": {
      "model_module": "@jupyter-widgets/controls",
      "model_module_version": "1.5.0",
      "model_name": "DescriptionStyleModel",
      "state": {
       "description_width": ""
      }
     },
     "89735892dd7142f0bfad069d7cfc7275": {
      "model_module": "@jupyter-widgets/controls",
      "model_module_version": "1.5.0",
      "model_name": "HTMLModel",
      "state": {
       "layout": "IPY_MODEL_cc1968849c114cdd86f24461e641c7a3",
       "style": "IPY_MODEL_89b47c42b2a94bb493f343821e6caff1",
       "value": "<h5>Queue</h5>"
      }
     },
     "89b47c42b2a94bb493f343821e6caff1": {
      "model_module": "@jupyter-widgets/controls",
      "model_module_version": "1.5.0",
      "model_name": "DescriptionStyleModel",
      "state": {
       "description_width": ""
      }
     },
     "91cc8ae285b3497d87ea83183c00cf08": {
      "model_module": "@jupyter-widgets/controls",
      "model_module_version": "1.5.0",
      "model_name": "ButtonStyleModel",
      "state": {}
     },
     "9ae02972a2b647d89012d5060ca83b19": {
      "model_module": "@jupyter-widgets/base",
      "model_module_version": "1.2.0",
      "model_name": "LayoutModel",
      "state": {
       "width": "145px"
      }
     },
     "a89bcd0b105a495d9cb5700aeb10d514": {
      "model_module": "@jupyter-widgets/base",
      "model_module_version": "1.2.0",
      "model_name": "LayoutModel",
      "state": {
       "grid_template_areas": "\n                                       \". . . . right \"\n                                        ",
       "grid_template_columns": "20% 20% 20% 20% 20%",
       "width": "100%"
      }
     },
     "ac1da5a00684403a8e8235abedff0e64": {
      "model_module": "@jupyter-widgets/controls",
      "model_module_version": "1.5.0",
      "model_name": "DescriptionStyleModel",
      "state": {
       "description_width": ""
      }
     },
     "b42acef9f13c4046aa22ee37b6dfe555": {
      "model_module": "@jupyter-widgets/controls",
      "model_module_version": "1.5.0",
      "model_name": "DescriptionStyleModel",
      "state": {
       "description_width": ""
      }
     },
     "b61428cd58734823a30f2cc874c51d7c": {
      "model_module": "@jupyter-widgets/base",
      "model_module_version": "1.2.0",
      "model_name": "LayoutModel",
      "state": {
       "width": "190px"
      }
     },
     "bfd00e42352f45f3bcc331b19e8d8967": {
      "model_module": "@jupyter-widgets/base",
      "model_module_version": "1.2.0",
      "model_name": "LayoutModel",
      "state": {
       "margin": "0px 0px 0px 37px",
       "width": "600px"
      }
     },
     "c92b263820f54346a8729bf022f1d05c": {
      "model_module": "@jupyter-widgets/controls",
      "model_module_version": "1.5.0",
      "model_name": "HTMLModel",
      "state": {
       "layout": "IPY_MODEL_25645a9b36e34161afe9d69c55130b14",
       "style": "IPY_MODEL_ac1da5a00684403a8e8235abedff0e64",
       "value": "<h5>Message</h5>"
      }
     },
     "cc1968849c114cdd86f24461e641c7a3": {
      "model_module": "@jupyter-widgets/base",
      "model_module_version": "1.2.0",
      "model_name": "LayoutModel",
      "state": {
       "width": "70px"
      }
     },
     "e41b42f8c239448f922c4fe15d2d513c": {
      "model_module": "@jupyter-widgets/controls",
      "model_module_version": "1.5.0",
      "model_name": "DescriptionStyleModel",
      "state": {
       "description_width": ""
      }
     },
     "f3e41009025c457e95b8bb7b81d6a401": {
      "model_module": "@jupyter-widgets/base",
      "model_module_version": "1.2.0",
      "model_name": "LayoutModel",
      "state": {
       "margin": "0px 0px 10px 0px"
      }
     }
    },
    "version_major": 2,
    "version_minor": 0
   }
  }
 },
 "nbformat": 4,
 "nbformat_minor": 5
}
