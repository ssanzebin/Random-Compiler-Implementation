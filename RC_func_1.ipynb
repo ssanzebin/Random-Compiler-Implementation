{
 "cells": [
  {
   "cell_type": "code",
   "execution_count": 5,
   "id": "0365e841-6094-4190-ad51-9135f0f51e37",
   "metadata": {},
   "outputs": [],
   "source": [
    "import qiskit as q\n",
    "import numpy as np\n",
    "import matplotlib.pyplot as plt\n",
    "import random\n",
    "from random import randint"
   ]
  },
  {
   "cell_type": "code",
   "execution_count": 6,
   "id": "f413159c-8956-47e3-ab34-eff4fba4ff94",
   "metadata": {
    "tags": []
   },
   "outputs": [],
   "source": [
    "twirling_set = [\"x\",\"z\",\"y\",\"i\"]"
   ]
  },
  {
   "cell_type": "code",
   "execution_count": 8,
   "id": "2c1cfc61-77da-4dd5-9693-83788cdf5593",
   "metadata": {},
   "outputs": [],
   "source": [
    "# rand_circ = q.QuantumCircuit(randint(2,5),randint(2,5))\n",
    "\n",
    "qubits = q.QuantumRegister(5)\n",
    "cbits = q.ClassicalRegister(5)\n",
    "\n",
    "rand_circ = q.QuantumCircuit(qubits,cbits)"
   ]
  },
  {
   "cell_type": "code",
   "execution_count": 9,
   "id": "c2a6baec-0052-47ac-b2a8-379a5f4749ed",
   "metadata": {
    "tags": []
   },
   "outputs": [
    {
     "data": {
      "text/html": [
       "<pre style=\"word-wrap: normal;white-space: pre;background: #fff0;line-height: 1.1;font-family: &quot;Courier New&quot;,Courier,monospace\">      \n",
       "q0_0: \n",
       "      \n",
       "q0_1: \n",
       "      \n",
       "q0_2: \n",
       "      \n",
       "q0_3: \n",
       "      \n",
       "q0_4: \n",
       "      \n",
       "c0: 5/\n",
       "      </pre>"
      ],
      "text/plain": [
       "      \n",
       "q0_0: \n",
       "      \n",
       "q0_1: \n",
       "      \n",
       "q0_2: \n",
       "      \n",
       "q0_3: \n",
       "      \n",
       "q0_4: \n",
       "      \n",
       "c0: 5/\n",
       "      "
      ]
     },
     "execution_count": 9,
     "metadata": {},
     "output_type": "execute_result"
    }
   ],
   "source": [
    "rand_circ.draw()"
   ]
  },
  {
   "cell_type": "code",
   "execution_count": 19,
   "id": "8ecd97b9-5bcf-41dd-b04f-996b844fcd87",
   "metadata": {},
   "outputs": [],
   "source": [
    "# based on the number of qubit and cycles, returns a list of random twirling gates from the twirling set.\n",
    "\n",
    "def twirling_gates(qubits):\n",
    "    random_gates = random.choices(twirling_set, k=1)\n",
    "    \n",
    "    return random_gates"
   ]
  },
  {
   "cell_type": "code",
   "execution_count": 20,
   "id": "c8a303cf-d5dc-4e58-a19d-4b7b09322e3d",
   "metadata": {},
   "outputs": [
    {
     "data": {
      "text/plain": [
       "['z']"
      ]
     },
     "execution_count": 20,
     "metadata": {},
     "output_type": "execute_result"
    }
   ],
   "source": [
    "twirling_gates(10)"
   ]
  },
  {
   "cell_type": "code",
   "execution_count": 25,
   "id": "ab271e2b-9736-4690-9205-213510ce9db8",
   "metadata": {},
   "outputs": [],
   "source": [
    "def apply_gate(QuantumCircuit,twirling_gates):\n",
    "    if twirling_gates == \"x\":\n",
    "        QuantumCircuit.x(randint(0,5))\n",
    "    elif twirling_gates == \"y\":\n",
    "        QuantumCircuit.y(randint(0,5))\n",
    "    elif twirling_gates == \"z\":\n",
    "        QuantumCircuit.z(randint(0,5))\n",
    "    elif twirling_gates == \"i\":\n",
    "        QuantumCircuit.i(randint(0,5))\n",
    "    return \n",
    "    "
   ]
  },
  {
   "cell_type": "code",
   "execution_count": 26,
   "id": "783fdfc7-eb68-4fef-ba7e-55869f2046cb",
   "metadata": {},
   "outputs": [
    {
     "data": {
      "text/html": [
       "<pre style=\"word-wrap: normal;white-space: pre;background: #fff0;line-height: 1.1;font-family: &quot;Courier New&quot;,Courier,monospace\">      \n",
       "q0_0: \n",
       "      \n",
       "q0_1: \n",
       "      \n",
       "q0_2: \n",
       "      \n",
       "q0_3: \n",
       "      \n",
       "q0_4: \n",
       "      \n",
       "c0: 5/\n",
       "      </pre>"
      ],
      "text/plain": [
       "      \n",
       "q0_0: \n",
       "      \n",
       "q0_1: \n",
       "      \n",
       "q0_2: \n",
       "      \n",
       "q0_3: \n",
       "      \n",
       "q0_4: \n",
       "      \n",
       "c0: 5/\n",
       "      "
      ]
     },
     "execution_count": 26,
     "metadata": {},
     "output_type": "execute_result"
    }
   ],
   "source": [
    "apply_gate(rand_circ,twirling_gates)\n",
    "rand_circ.draw()"
   ]
  },
  {
   "cell_type": "code",
   "execution_count": 34,
   "id": "b0b7f081-7e68-4de6-9d28-d19fdfe7b03d",
   "metadata": {},
   "outputs": [
    {
     "data": {
      "text/html": [
       "<pre style=\"word-wrap: normal;white-space: pre;background: #fff0;line-height: 1.1;font-family: &quot;Courier New&quot;,Courier,monospace\">                    \n",
       "q_0: ───────────────\n",
       "     ┌───┐┌───┐┌───┐\n",
       "q_1: ┤ X ├┤ X ├┤ X ├\n",
       "     └───┘└───┘└───┘\n",
       "q_2: ───────────────\n",
       "                    \n",
       "q_3: ───────────────\n",
       "     ┌───┐          \n",
       "q_4: ┤ I ├──────────\n",
       "     └───┘          \n",
       "c: 5/═══════════════\n",
       "                    </pre>"
      ],
      "text/plain": [
       "                    \n",
       "q_0: ───────────────\n",
       "     ┌───┐┌───┐┌───┐\n",
       "q_1: ┤ X ├┤ X ├┤ X ├\n",
       "     └───┘└───┘└───┘\n",
       "q_2: ───────────────\n",
       "                    \n",
       "q_3: ───────────────\n",
       "     ┌───┐          \n",
       "q_4: ┤ I ├──────────\n",
       "     └───┘          \n",
       "c: 5/═══════════════\n",
       "                    "
      ]
     },
     "execution_count": 34,
     "metadata": {},
     "output_type": "execute_result"
    }
   ],
   "source": [
    "qc = q.QuantumCircuit(5,5)\n",
    "qc.i(randint(0,4))\n",
    "qc.x(randint(0,4))\n",
    "qc.x(1)\n",
    "qc.x(1)\n",
    "qc.draw()"
   ]
  },
  {
   "cell_type": "code",
   "execution_count": 35,
   "id": "3fe09daf-5253-4964-85ae-5379d7536a2c",
   "metadata": {},
   "outputs": [
    {
     "data": {
      "text/plain": [
       "3"
      ]
     },
     "execution_count": 35,
     "metadata": {},
     "output_type": "execute_result"
    }
   ],
   "source": [
    "qc.depth()"
   ]
  },
  {
   "cell_type": "code",
   "execution_count": 40,
   "id": "62a9d3a7-09c4-4db0-8077-099ae61bb524",
   "metadata": {},
   "outputs": [
    {
     "data": {
      "text/plain": [
       "5"
      ]
     },
     "execution_count": 40,
     "metadata": {},
     "output_type": "execute_result"
    }
   ],
   "source": [
    "qc.num_qubits"
   ]
  },
  {
   "cell_type": "code",
   "execution_count": 67,
   "id": "f3b7b4d0-136f-4893-93bd-bded853a0233",
   "metadata": {},
   "outputs": [],
   "source": [
    "def twirling_gates_2(QuantumCircuit):\n",
    "    \n",
    "    gates = QuantumCircuit.depth() * QuantumCircuit.num_qubits\n",
    "    random_gates = random.choices(twirling_set, k=gates)\n",
    "    print(random_gates)\n",
    "    "
   ]
  },
  {
   "cell_type": "code",
   "execution_count": 68,
   "id": "26e8e98e-a20c-479e-ad1b-cadb800d3e00",
   "metadata": {},
   "outputs": [
    {
     "name": "stdout",
     "output_type": "stream",
     "text": [
      "['z', 'z', 'i', 'i', 'i', 'z', 'z', 'z', 'i', 'x', 'x', 'i', 'i', 'z', 'z']\n"
     ]
    }
   ],
   "source": [
    "twirling_gates_2(qc)"
   ]
  },
  {
   "cell_type": "code",
   "execution_count": 66,
   "id": "4f45d294-3682-405a-a7ab-8a9c9bbed9e2",
   "metadata": {},
   "outputs": [
    {
     "data": {
      "text/plain": [
       "['y', 'x', 'x', 'x', 'z', 'y', 'y', 'x', 'y', 'x', 'z', 'y', 'y', 'i', 'x']"
      ]
     },
     "execution_count": 66,
     "metadata": {},
     "output_type": "execute_result"
    }
   ],
   "source": [
    "qc.depth() * qc.num_qubits\n",
    "random_gates = random.choices(twirling_set, k=15)\n",
    "random_gates"
   ]
  },
  {
   "cell_type": "code",
   "execution_count": 54,
   "id": "96deb593-c183-41c5-9328-515cb6a9e259",
   "metadata": {},
   "outputs": [],
   "source": [
    "# test\n",
    "# random_gate = random.choices(twirling_set, k=5)"
   ]
  }
 ],
 "metadata": {
  "kernelspec": {
   "display_name": "Python 3 (ipykernel)",
   "language": "python",
   "name": "python3"
  },
  "language_info": {
   "codemirror_mode": {
    "name": "ipython",
    "version": 3
   },
   "file_extension": ".py",
   "mimetype": "text/x-python",
   "name": "python",
   "nbconvert_exporter": "python",
   "pygments_lexer": "ipython3",
   "version": "3.9.7"
  }
 },
 "nbformat": 4,
 "nbformat_minor": 5
}
